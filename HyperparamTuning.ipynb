{
 "cells": [
  {
   "cell_type": "code",
   "execution_count": 4,
   "metadata": {
    "colab": {
     "base_uri": "https://localhost:8080/"
    },
    "id": "lRHVmGwb2Pnd",
    "outputId": "94b85529-3b8c-4baf-9b79-f59203d96125"
   },
   "outputs": [
    {
     "name": "stdout",
     "output_type": "stream",
     "text": [
      "importing Jupyter notebook from Preprocessing.ipynb\n"
     ]
    }
   ],
   "source": [
    "import pandas as pd\n",
    "import numpy as np\n",
    "import tensorflow as tf\n",
    "import tensorflow.keras as keras\n",
    "from keras.models import Sequential\n",
    "from keras.callbacks import EarlyStopping, ModelCheckpoint\n",
    "from sklearn.model_selection import GridSearchCV\n",
    "from sklearn.model_selection import train_test_split\n",
    "from sklearn.ensemble import RandomForestRegressor\n",
    "from xgboost import XGBRegressor\n",
    "from lightgbm import LGBMRegressor\n",
    "from catboost import CatBoostRegressor\n",
    "from sklearn.metrics import mean_squared_error, r2_score, mean_absolute_error\n",
    "\n",
    "import warnings\n",
    "warnings.filterwarnings('ignore')\n",
    "import import_ipynb\n",
    "import Preprocessing\n",
    "from Preprocessing import pre_buy_num, pre_buy_amount_round, data_split"
   ]
  },
  {
   "cell_type": "code",
   "execution_count": 5,
   "metadata": {
    "id": "r_pi3W8EVUMM"
   },
   "outputs": [],
   "source": [
    "def RF_gridSearch(x_train, x_test, y_train, y_test):\n",
    "    algorithm = RandomForestRegressor(random_state=2022)\n",
    "    algorithm = algorithm.fit(x_train, y_train)\n",
    "\n",
    "    depth_lst = list()\n",
    "    for es in algorithm.estimators_:\n",
    "        depth_lst.append(es.get_depth())\n",
    "    depth = np.median(depth_lst)\n",
    "    \n",
    "    algorithm = RandomForestRegressor(random_state=2022)\n",
    "    params = {'max_depth' :[depth-1, depth, depth+1], 'n_estimators': [90,100,110], 'min_samples_split' :[2,3,4]}\n",
    "    score = 'neg_mean_squared_error'\n",
    "\n",
    "    df_grid = GridSearchCV(algorithm, param_grid = params, cv=5, scoring= score, n_jobs=-1)\n",
    "    df_grid.fit(x_train, y_train)\n",
    "\n",
    "    best_mse = (-1) * df_grid.best_score_\n",
    "    best_rmse = np.sqrt(best_mse)\n",
    "    print('Best score: {}, Best params: {}'.format(round(best_rmse,4), df_grid.best_params_))\n",
    "    \n",
    "    estimator = df_grid.best_estimator_\n",
    "    pred = estimator.predict(x_test)\n",
    "    print(\"학습 데이터셋 정확도: \", estimator.score(x_train, y_train))\n",
    "    print(\"테스트 데이터셋 정확도: \", estimator.score(x_test, y_test))\n",
    "    print(\"MSE: \", mean_squared_error(y_test, pred))\n",
    "    print(\"RMSE: \", np.sqrt(mean_squared_error(y_test, pred)))\n",
    "    print(\"R2: \", r2_score(y_test, pred))\n",
    "    print(\"MAE: \", mean_absolute_error(y_test, pred))"
   ]
  },
  {
   "cell_type": "code",
   "execution_count": 6,
   "metadata": {
    "id": "NlWK0T9dVUMN"
   },
   "outputs": [],
   "source": [
    "def Boost_GridSearch(x_train, x_test, y_train, y_test, Boost):\n",
    "    if Boost == 'XGB':\n",
    "        algorithm = XGBRegressor(random_state=2022)\n",
    "    elif Boost == 'LGB':\n",
    "        algorithm = LGBMRegressor(random_state=2022)\n",
    "    else:\n",
    "        algorithm = CatBoostRegressor(random_state=2022, silent=True)\n",
    "        \n",
    "    params = {'max_depth' :[3,5,7,11], 'learning_rate' :[0.01,0.05,0.1,0.5]}\n",
    "    score = 'neg_mean_squared_error'\n",
    "\n",
    "    df_grid= GridSearchCV(algorithm, param_grid = params, cv=5, scoring=score, n_jobs=-1)\n",
    "    df_grid.fit(x_train, y_train)\n",
    "\n",
    "    best_mse = (-1) * df_grid.best_score_\n",
    "    best_rmse = np.sqrt(best_mse)\n",
    "    print('Best score: {}, Best params: {}'.format(round(best_rmse,4), df_grid.best_params_))\n",
    "    \n",
    "    estimator = df_grid.best_estimator_\n",
    "    pred = estimator.predict(x_test)\n",
    "    print(\"학습 데이터셋 정확도: \", estimator.score(x_train, y_train))\n",
    "    print(\"테스트 데이터셋 정확도: \", estimator.score(x_test, y_test))\n",
    "    print(\"MSE: \", mean_squared_error(y_test, pred))\n",
    "    print(\"RMSE: \", np.sqrt(mean_squared_error(y_test, pred)))\n",
    "    print(\"R2: \", r2_score(y_test, pred))\n",
    "    print(\"MAE: \", mean_absolute_error(y_test, pred))"
   ]
  },
  {
   "cell_type": "code",
   "execution_count": 7,
   "metadata": {
    "id": "vLZ8RbcVVUMN"
   },
   "outputs": [],
   "source": [
    "def DNN_model(x_train, y_train, hidden, units):\n",
    "    np.random.seed(2022)\n",
    "    tf.random.set_seed(2022)\n",
    "    initializer = tf.keras.initializers.GlorotUniform(seed=2022)\n",
    "    \n",
    "    early_stopping = EarlyStopping(monitor='val_loss', mode='min', verbose=0, patience=5)\n",
    "    check_point = ModelCheckpoint('temp/DNN_temp.h5',monitor='val_loss',mode='min',save_best_only=True)\n",
    "    \n",
    "    model = Sequential()\n",
    "    model.add(keras.layers.Dense(units=units, activation='relu', input_shape=(x_train.shape[1],), kernel_initializer=initializer))\n",
    "    for i in range(hidden):\n",
    "        model.add(keras.layers.Dense(units=units, activation='relu', kernel_initializer=initializer))\n",
    "    model.add(keras.layers.Dense(units=1, activation='linear', kernel_initializer=initializer))\n",
    "    model.compile(optimizer='adam', loss='mse', metrics='mae')\n",
    "    model.fit(x_train, y_train, epochs=50, batch_size=128, validation_split=0.2, callbacks=[early_stopping,check_point], verbose=0)\n",
    "\n",
    "    return model\n",
    "\n",
    "def DNN_param(x_train, x_test, y_train, y_test):\n",
    "    count = 0\n",
    "    hyperparam = pd.DataFrame(index=range(0), columns = ['hiddenlayer_num', 'units_num', 'r2_score', 'MSE', 'MAE'])\n",
    "    for hidden in range(1,5):\n",
    "        for units in [200, 300, 400, 500]:\n",
    "            model = DNN_model(x_train, y_train, hidden, units)\n",
    "            pred = model.predict(x_test)\n",
    "            r2 = r2_score(y_test, pred)\n",
    "            score = model.evaluate(x_test, y_test)\n",
    "            hyperparam.loc[count] = [hidden, units, r2, score[0], score[1]]\n",
    "            count += 1\n",
    "    \n",
    "    best_hyperparam = hyperparam[hyperparam['r2_score'] == max(hyperparam['r2_score'])]\n",
    "    \n",
    "    print('Best params: hiddenlayer_num = {}, units_num = {}'.format(best_hyperparam.iloc[0,0], best_hyperparam.iloc[0,1]))\n",
    "    print(\"MSE: \", best_hyperparam.iloc[0,3])\n",
    "    print(\"RMSE: \", np.sqrt(best_hyperparam.iloc[0,3]))\n",
    "    print(\"R2: \", best_hyperparam.iloc[0,2])\n",
    "    print(\"MAE: \", best_hyperparam.iloc[0,4])"
   ]
  },
  {
   "cell_type": "markdown",
   "metadata": {
    "id": "sZuNdJ2pVUMO"
   },
   "source": [
    "# 1번 주제: 총 구매횟수"
   ]
  },
  {
   "cell_type": "code",
   "execution_count": null,
   "metadata": {
    "id": "pruWM4eLVUMP"
   },
   "outputs": [],
   "source": [
    "data02_offline, data02_online, data03_offline, data03_online = pre_buy_num()"
   ]
  },
  {
   "cell_type": "markdown",
   "metadata": {
    "id": "8SS-A4o8VUMP"
   },
   "source": [
    "data02_offline"
   ]
  },
  {
   "cell_type": "code",
   "execution_count": null,
   "metadata": {
    "id": "LHgycGjfVUMQ"
   },
   "outputs": [],
   "source": [
    "x_train, x_test, y_train, y_test = data_split(data02_offline)"
   ]
  },
  {
   "cell_type": "code",
   "execution_count": null,
   "metadata": {
    "id": "8Pd0Pez9VUMQ"
   },
   "outputs": [],
   "source": [
    "RF_gridSearch(x_train, x_test, y_train, y_test)"
   ]
  },
  {
   "cell_type": "code",
   "execution_count": null,
   "metadata": {
    "colab": {
     "base_uri": "https://localhost:8080/"
    },
    "id": "1s3qfEcYVUMR",
    "outputId": "7b3f77c0-60ef-4d66-8fb6-4d479e444af6"
   },
   "outputs": [
    {
     "name": "stdout",
     "output_type": "stream",
     "text": [
      "[08:46:54] WARNING: /workspace/src/objective/regression_obj.cu:152: reg:linear is now deprecated in favor of reg:squarederror.\n",
      "Best score: 5.4663, Best params: {'learning_rate': 0.5, 'max_depth': 11}\n",
      "학습 데이터셋 정확도:  0.9115277006811993\n",
      "테스트 데이터셋 정확도:  0.8834281058882767\n",
      "MSE:  28.742463273083946\n",
      "RMSE:  5.361199797907549\n",
      "R2:  0.8834281058882767\n",
      "MAE:  3.345179077300532\n"
     ]
    }
   ],
   "source": [
    "Boost_GridSearch(x_train, x_test, y_train, y_test, 'XGB')"
   ]
  },
  {
   "cell_type": "code",
   "execution_count": null,
   "metadata": {
    "colab": {
     "base_uri": "https://localhost:8080/"
    },
    "id": "w6bsrYCjVUMR",
    "outputId": "bcf0a177-b73c-4435-90aa-2b02563dbab0"
   },
   "outputs": [
    {
     "name": "stdout",
     "output_type": "stream",
     "text": [
      "Best score: 7.9502, Best params: {'learning_rate': 0.5, 'max_depth': 11}\n",
      "학습 데이터셋 정확도:  0.750959622042766\n",
      "테스트 데이터셋 정확도:  0.744076175749653\n",
      "MSE:  63.10166936270983\n",
      "RMSE:  7.9436559192043195\n",
      "R2:  0.744076175749653\n",
      "MAE:  4.7570279034979555\n"
     ]
    }
   ],
   "source": [
    "Boost_GridSearch(x_train, x_test, y_train, y_test, 'LGB')"
   ]
  },
  {
   "cell_type": "code",
   "execution_count": null,
   "metadata": {
    "colab": {
     "base_uri": "https://localhost:8080/"
    },
    "id": "B-LdKHkOVUMR",
    "outputId": "9a940e07-2667-4dd1-d471-a0c1478b370d",
    "scrolled": false
   },
   "outputs": [
    {
     "name": "stdout",
     "output_type": "stream",
     "text": [
      "Best score: 5.3047, Best params: {'learning_rate': 0.5, 'max_depth': 11}\n",
      "학습 데이터셋 정확도:  0.9119866031226268\n",
      "테스트 데이터셋 정확도:  0.8883046180735571\n",
      "MSE:  27.540089635302632\n",
      "RMSE:  5.24786524553581\n",
      "R2:  0.8883046180735571\n",
      "MAE:  3.3641174677513015\n"
     ]
    }
   ],
   "source": [
    "Boost_GridSearch(x_train, x_test, y_train, y_test, 'CAT')"
   ]
  },
  {
   "cell_type": "code",
   "execution_count": null,
   "metadata": {},
   "outputs": [],
   "source": [
    "DNN_param(x_train, x_test, y_train, y_test)"
   ]
  },
  {
   "cell_type": "markdown",
   "metadata": {
    "id": "BJ4VFjSRVUMS"
   },
   "source": [
    "data02_online"
   ]
  },
  {
   "cell_type": "code",
   "execution_count": null,
   "metadata": {
    "id": "ydTf3FVOVUMS"
   },
   "outputs": [],
   "source": [
    "x_train, x_test, y_train, y_test = data_split(data02_online)"
   ]
  },
  {
   "cell_type": "code",
   "execution_count": null,
   "metadata": {
    "colab": {
     "base_uri": "https://localhost:8080/"
    },
    "id": "8G9PAab5VUMS",
    "outputId": "869618b0-f3fc-466f-81d1-3950a4c987b9"
   },
   "outputs": [
    {
     "name": "stdout",
     "output_type": "stream",
     "text": [
      "Best score: 3.0531, Best params: {'max_depth': 45.0, 'min_samples_split': 2, 'n_estimators': 110}\n",
      "학습 데이터셋 정확도:  0.9831909748721949\n",
      "테스트 데이터셋 정확도:  0.8900722076220451\n",
      "MSE:  7.6723592022630225\n",
      "RMSE:  2.7699023813598598\n",
      "R2:  0.8900722076220451\n",
      "MAE:  1.366625534426022\n"
     ]
    }
   ],
   "source": [
    "RF_gridSearch(x_train, x_test, y_train, y_test)"
   ]
  },
  {
   "cell_type": "code",
   "execution_count": null,
   "metadata": {
    "colab": {
     "base_uri": "https://localhost:8080/"
    },
    "id": "LpHdxGngVUMS",
    "outputId": "49797c2a-ba1f-42d1-c8f5-130e5903840e"
   },
   "outputs": [
    {
     "name": "stdout",
     "output_type": "stream",
     "text": [
      "[18:57:15] WARNING: /workspace/src/objective/regression_obj.cu:152: reg:linear is now deprecated in favor of reg:squarederror.\n",
      "Best score: 3.3278, Best params: {'learning_rate': 0.5, 'max_depth': 11}\n",
      "학습 데이터셋 정확도:  0.9670823969387203\n",
      "테스트 데이터셋 정확도:  0.8618586643113534\n",
      "MSE:  9.641510351082438\n",
      "RMSE:  3.105078155390366\n",
      "R2:  0.8618586643113534\n",
      "MAE:  1.7899007289270314\n"
     ]
    }
   ],
   "source": [
    "Boost_GridSearch(x_train, x_test, y_train, y_test, 'XGB')"
   ]
  },
  {
   "cell_type": "code",
   "execution_count": null,
   "metadata": {
    "colab": {
     "base_uri": "https://localhost:8080/"
    },
    "id": "53DrN3TKVUMS",
    "outputId": "f5f9d880-cd2d-47d0-d1fb-60d6a3ec0033"
   },
   "outputs": [
    {
     "name": "stdout",
     "output_type": "stream",
     "text": [
      "Best score: 4.4399, Best params: {'learning_rate': 0.5, 'max_depth': 11}\n",
      "학습 데이터셋 정확도:  0.7478108597662267\n",
      "테스트 데이터셋 정확도:  0.7175956737423911\n",
      "MSE:  19.710278760732855\n",
      "RMSE:  4.439625970814755\n",
      "R2:  0.7175956737423911\n",
      "MAE:  2.741841197125275\n"
     ]
    }
   ],
   "source": [
    "Boost_GridSearch(x_train, x_test, y_train, y_test, 'LGB')"
   ]
  },
  {
   "cell_type": "code",
   "execution_count": null,
   "metadata": {
    "colab": {
     "base_uri": "https://localhost:8080/"
    },
    "id": "zKvXs9ZYVUMT",
    "outputId": "273c39e8-9bf0-42e6-c391-e7efbcfbba12"
   },
   "outputs": [
    {
     "name": "stdout",
     "output_type": "stream",
     "text": [
      "Best score: 3.3019, Best params: {'learning_rate': 0.5, 'max_depth': 11}\n",
      "학습 데이터셋 정확도:  0.9620957446577683\n",
      "테스트 데이터셋 정확도:  0.8574512432196884\n",
      "MSE:  9.949124258715731\n",
      "RMSE:  3.154223241737295\n",
      "R2:  0.8574512432196884\n",
      "MAE:  1.865262517478538\n"
     ]
    }
   ],
   "source": [
    "Boost_GridSearch(x_train, x_test, y_train, y_test, 'CAT')"
   ]
  },
  {
   "cell_type": "code",
   "execution_count": null,
   "metadata": {
    "colab": {
     "base_uri": "https://localhost:8080/"
    },
    "id": "E26-0VNMVUMT",
    "outputId": "554e436d-4231-467f-d2d1-0a028c8cbfcc"
   },
   "outputs": [
    {
     "name": "stdout",
     "output_type": "stream",
     "text": [
      "4018/4018 [==============================] - 7s 2ms/step - loss: 34.0526 - mae: 3.3660\n",
      "4018/4018 [==============================] - 7s 2ms/step - loss: 28.8277 - mae: 3.2219\n",
      "4018/4018 [==============================] - 7s 2ms/step - loss: 33.0411 - mae: 3.3624\n",
      "4018/4018 [==============================] - 7s 2ms/step - loss: 33.6420 - mae: 3.3448\n",
      "4018/4018 [==============================] - 7s 2ms/step - loss: 27.1840 - mae: 3.1236\n",
      "4018/4018 [==============================] - 7s 2ms/step - loss: 26.8256 - mae: 3.1175\n",
      "4018/4018 [==============================] - 8s 2ms/step - loss: 29.1110 - mae: 3.1713\n",
      "4018/4018 [==============================] - 7s 2ms/step - loss: 26.7095 - mae: 3.1005\n",
      "4018/4018 [==============================] - 7s 2ms/step - loss: 26.1553 - mae: 3.0394\n",
      "4018/4018 [==============================] - 7s 2ms/step - loss: 24.5767 - mae: 2.8939\n",
      "4018/4018 [==============================] - 7s 2ms/step - loss: 24.7591 - mae: 2.9297\n",
      "4018/4018 [==============================] - 7s 2ms/step - loss: 24.2596 - mae: 2.8684\n",
      "4018/4018 [==============================] - 7s 2ms/step - loss: 30.4352 - mae: 3.1821\n",
      "4018/4018 [==============================] - 7s 2ms/step - loss: 24.1506 - mae: 2.8492\n",
      "4018/4018 [==============================] - 7s 2ms/step - loss: 25.2453 - mae: 2.9587\n",
      "4018/4018 [==============================] - 7s 2ms/step - loss: 27.7688 - mae: 3.0474\n",
      "Best params: hiddenlayer_num = 4.0, units_num = 300.0\n",
      "MSE:  24.150588989257812\n",
      "RMSE:  4.9143248762426985\n",
      "R2:  0.6539760864188346\n",
      "MAE:  2.84924054145813\n"
     ]
    }
   ],
   "source": [
    "DNN_param(x_train, x_test, y_train, y_test)"
   ]
  },
  {
   "cell_type": "markdown",
   "metadata": {
    "id": "P13N0UzdVUMT"
   },
   "source": [
    "data03_offline"
   ]
  },
  {
   "cell_type": "code",
   "execution_count": null,
   "metadata": {
    "id": "lEm9uAQnVUMT"
   },
   "outputs": [],
   "source": [
    "x_train, x_test, y_train, y_test = data_split(data03_offline)"
   ]
  },
  {
   "cell_type": "code",
   "execution_count": null,
   "metadata": {
    "colab": {
     "base_uri": "https://localhost:8080/"
    },
    "id": "iyD67qBAVUMT",
    "outputId": "a358c1fb-b668-4d53-f539-4d617fa07abb"
   },
   "outputs": [
    {
     "name": "stdout",
     "output_type": "stream",
     "text": [
      "Best score: 4.7304, Best params: {'max_depth': 44.0, 'min_samples_split': 2, 'n_estimators': 110}\n",
      "학습 데이터셋 정확도:  0.9872328932265991\n",
      "테스트 데이터셋 정확도:  0.906086845701141\n",
      "MSE:  20.317747135546394\n",
      "RMSE:  4.507521174165063\n",
      "R2:  0.906086845701141\n",
      "MAE:  2.3440311014307085\n"
     ]
    }
   ],
   "source": [
    "RF_gridSearch(x_train, x_test, y_train, y_test)"
   ]
  },
  {
   "cell_type": "code",
   "execution_count": null,
   "metadata": {
    "colab": {
     "base_uri": "https://localhost:8080/"
    },
    "id": "8Lu8rf_HVUMT",
    "outputId": "1f88729b-052b-4f94-b23f-78c221a54f05"
   },
   "outputs": [
    {
     "name": "stdout",
     "output_type": "stream",
     "text": [
      "[21:57:49] WARNING: /workspace/src/objective/regression_obj.cu:152: reg:linear is now deprecated in favor of reg:squarederror.\n",
      "Best score: 5.5646, Best params: {'learning_rate': 0.5, 'max_depth': 11}\n",
      "학습 데이터셋 정확도:  0.9744086440719864\n",
      "테스트 데이터셋 정확도:  0.870838068619467\n",
      "MSE:  27.943683511867142\n",
      "RMSE:  5.286178535754079\n",
      "R2:  0.870838068619467\n",
      "MAE:  3.2558130704369175\n"
     ]
    }
   ],
   "source": [
    "Boost_GridSearch(x_train, x_test, y_train, y_test, 'XGB')"
   ]
  },
  {
   "cell_type": "code",
   "execution_count": null,
   "metadata": {
    "colab": {
     "base_uri": "https://localhost:8080/"
    },
    "id": "yocbCV3lVUMU",
    "outputId": "a0b6c2bb-db38-4535-bc0a-c4ca9bb7be09"
   },
   "outputs": [
    {
     "name": "stdout",
     "output_type": "stream",
     "text": [
      "Best score: 6.9744, Best params: {'learning_rate': 0.5, 'max_depth': 11}\n",
      "학습 데이터셋 정확도:  0.8106503900221929\n",
      "테스트 데이터셋 정확도:  0.786868758634066\n",
      "MSE:  46.1101184502623\n",
      "RMSE:  6.790443170387504\n",
      "R2:  0.786868758634066\n",
      "MAE:  4.779878302225002\n"
     ]
    }
   ],
   "source": [
    "Boost_GridSearch(x_train, x_test, y_train, y_test, 'LGB')"
   ]
  },
  {
   "cell_type": "code",
   "execution_count": null,
   "metadata": {
    "colab": {
     "base_uri": "https://localhost:8080/"
    },
    "id": "fMbwEtoGVUMU",
    "outputId": "50c932c2-4030-4ad1-8dd7-a940823bfa7b"
   },
   "outputs": [
    {
     "name": "stdout",
     "output_type": "stream",
     "text": [
      "Best score: 5.3427, Best params: {'learning_rate': 0.1, 'max_depth': 11}\n",
      "학습 데이터셋 정확도:  0.9202689560183823\n",
      "테스트 데이터셋 정확도:  0.8797587519661142\n",
      "MSE:  26.01372822640551\n",
      "RMSE:  5.100365499295664\n",
      "R2:  0.8797587519661142\n",
      "MAE:  3.389803629488527\n"
     ]
    }
   ],
   "source": [
    "Boost_GridSearch(x_train, x_test, y_train, y_test, 'CAT')"
   ]
  },
  {
   "cell_type": "code",
   "execution_count": null,
   "metadata": {
    "colab": {
     "base_uri": "https://localhost:8080/"
    },
    "id": "h8gLOSa7VUMU",
    "outputId": "dd6b5b01-9e2d-4afe-b38a-10d73a02171b"
   },
   "outputs": [
    {
     "name": "stdout",
     "output_type": "stream",
     "text": [
      "2002/2002 [==============================] - 3s 2ms/step - loss: 74.6817 - mae: 6.0449\n",
      "2002/2002 [==============================] - 4s 2ms/step - loss: 70.4732 - mae: 5.9074\n",
      "2002/2002 [==============================] - 3s 2ms/step - loss: 68.7247 - mae: 5.8311\n",
      "2002/2002 [==============================] - 3s 2ms/step - loss: 66.3597 - mae: 5.7468\n",
      "2002/2002 [==============================] - 3s 2ms/step - loss: 72.5606 - mae: 5.8407\n",
      "2002/2002 [==============================] - 4s 2ms/step - loss: 66.0800 - mae: 5.5382\n",
      "2002/2002 [==============================] - 4s 2ms/step - loss: 66.7906 - mae: 5.6475\n",
      "2002/2002 [==============================] - 4s 2ms/step - loss: 68.1257 - mae: 5.7965\n",
      "2002/2002 [==============================] - 3s 2ms/step - loss: 59.8966 - mae: 5.3118\n",
      "2002/2002 [==============================] - 4s 2ms/step - loss: 49.7465 - mae: 4.7989\n",
      "2002/2002 [==============================] - 4s 2ms/step - loss: 60.9177 - mae: 5.2223\n",
      "2002/2002 [==============================] - 4s 2ms/step - loss: 58.5153 - mae: 5.1873\n",
      "2002/2002 [==============================] - 4s 2ms/step - loss: 51.0334 - mae: 4.8591\n",
      "2002/2002 [==============================] - 4s 2ms/step - loss: 53.0794 - mae: 5.0255\n",
      "2002/2002 [==============================] - 4s 2ms/step - loss: 58.5648 - mae: 5.1354\n",
      "2002/2002 [==============================] - 4s 2ms/step - loss: 67.2320 - mae: 5.0366\n",
      "Best params: hiddenlayer_num = 3.0, units_num = 300.0\n",
      "MSE:  49.74653625488281\n",
      "RMSE:  7.053122447177762\n",
      "R2:  0.7700604093841336\n",
      "MAE:  4.79890775680542\n"
     ]
    }
   ],
   "source": [
    "DNN_param(x_train, x_test, y_train, y_test)"
   ]
  },
  {
   "cell_type": "markdown",
   "metadata": {
    "id": "_I-38LzZVUMU"
   },
   "source": [
    "data03_online"
   ]
  },
  {
   "cell_type": "code",
   "execution_count": null,
   "metadata": {
    "id": "onpYZhhuVUMU"
   },
   "outputs": [],
   "source": [
    "x_train, x_test, y_train, y_test = data_split(data03_online)"
   ]
  },
  {
   "cell_type": "code",
   "execution_count": null,
   "metadata": {
    "colab": {
     "base_uri": "https://localhost:8080/"
    },
    "id": "cC6v8iOWVUMW",
    "outputId": "e59f4cdd-0c3e-4312-c7d7-e1bb9771a7b5"
   },
   "outputs": [
    {
     "name": "stdout",
     "output_type": "stream",
     "text": [
      "Best score: 3.645, Best params: {'max_depth': 35.0, 'min_samples_split': 2, 'n_estimators': 110}\n",
      "학습 데이터셋 정확도:  0.9880346966084476\n",
      "테스트 데이터셋 정확도:  0.9119370787000942\n",
      "MSE:  12.28855545907168\n",
      "RMSE:  3.50550359564381\n",
      "R2:  0.9119370787000942\n",
      "MAE:  2.015202506061392\n"
     ]
    }
   ],
   "source": [
    "RF_gridSearch(x_train, x_test, y_train, y_test)"
   ]
  },
  {
   "cell_type": "code",
   "execution_count": null,
   "metadata": {
    "colab": {
     "base_uri": "https://localhost:8080/"
    },
    "id": "8V2XylA6VUMW",
    "outputId": "746bc182-bc5c-466a-f130-105624ac3c5b"
   },
   "outputs": [
    {
     "name": "stdout",
     "output_type": "stream",
     "text": [
      "[23:06:47] WARNING: /workspace/src/objective/regression_obj.cu:152: reg:linear is now deprecated in favor of reg:squarederror.\n",
      "Best score: 3.7995, Best params: {'learning_rate': 0.1, 'max_depth': 11}\n",
      "학습 데이터셋 정확도:  0.9807490065765517\n",
      "테스트 데이터셋 정확도:  0.9109091426465747\n",
      "MSE:  12.431996637442706\n",
      "RMSE:  3.525903662530034\n",
      "R2:  0.9109091426465747\n",
      "MAE:  2.1570471556630877\n"
     ]
    }
   ],
   "source": [
    "Boost_GridSearch(x_train, x_test, y_train, y_test, 'XGB')"
   ]
  },
  {
   "cell_type": "code",
   "execution_count": null,
   "metadata": {
    "colab": {
     "base_uri": "https://localhost:8080/"
    },
    "id": "XM9qUi8SVUMX",
    "outputId": "56826fce-9f0e-4fd4-dd34-b90be40cc57e"
   },
   "outputs": [
    {
     "name": "stdout",
     "output_type": "stream",
     "text": [
      "Best score: 4.4253, Best params: {'learning_rate': 0.5, 'max_depth': 11}\n",
      "학습 데이터셋 정확도:  0.9242694656137396\n",
      "테스트 데이터셋 정확도:  0.8645867244699867\n",
      "MSE:  18.895961225021296\n",
      "RMSE:  4.34694849578659\n",
      "R2:  0.8645867244699867\n",
      "MAE:  2.97938748583994\n"
     ]
    }
   ],
   "source": [
    "Boost_GridSearch(x_train, x_test, y_train, y_test, 'LGB')"
   ]
  },
  {
   "cell_type": "code",
   "execution_count": null,
   "metadata": {
    "colab": {
     "base_uri": "https://localhost:8080/"
    },
    "id": "-ESidO7yVUMX",
    "outputId": "3c30703e-5dcf-41ad-fdce-4a972298f66f"
   },
   "outputs": [
    {
     "name": "stdout",
     "output_type": "stream",
     "text": [
      "Best score: 3.5719, Best params: {'learning_rate': 0.1, 'max_depth': 11}\n",
      "학습 데이터셋 정확도:  0.9860148480863536\n",
      "테스트 데이터셋 정확도:  0.9146379614078266\n",
      "MSE:  11.911666452296796\n",
      "RMSE:  3.4513282156724525\n",
      "R2:  0.9146379614078266\n",
      "MAE:  2.23701604440326\n"
     ]
    }
   ],
   "source": [
    "Boost_GridSearch(x_train, x_test, y_train, y_test, 'CAT')"
   ]
  },
  {
   "cell_type": "code",
   "execution_count": null,
   "metadata": {
    "colab": {
     "base_uri": "https://localhost:8080/"
    },
    "id": "tJFprXUoVUMX",
    "outputId": "8c4c166b-a8c6-486f-9a6f-7036e819ce89"
   },
   "outputs": [
    {
     "name": "stdout",
     "output_type": "stream",
     "text": [
      "326/326 [==============================] - 1s 2ms/step - loss: 64.1351 - mae: 5.3713\n",
      "326/326 [==============================] - 1s 2ms/step - loss: 59.8315 - mae: 5.2804\n",
      "326/326 [==============================] - 1s 2ms/step - loss: 56.4265 - mae: 5.1544\n",
      "326/326 [==============================] - 1s 2ms/step - loss: 57.8464 - mae: 5.1097\n",
      "326/326 [==============================] - 1s 2ms/step - loss: 87.9648 - mae: 6.8056\n",
      "326/326 [==============================] - 1s 2ms/step - loss: 85.4131 - mae: 6.6403\n",
      "326/326 [==============================] - 1s 2ms/step - loss: 86.8650 - mae: 6.6764\n",
      "326/326 [==============================] - 1s 2ms/step - loss: 91.0388 - mae: 6.9255\n",
      "326/326 [==============================] - 1s 2ms/step - loss: 92.3423 - mae: 7.0564\n",
      "326/326 [==============================] - 1s 2ms/step - loss: 91.3276 - mae: 6.8554\n",
      "326/326 [==============================] - 1s 2ms/step - loss: 88.1993 - mae: 6.6468\n",
      "326/326 [==============================] - 1s 2ms/step - loss: 84.7439 - mae: 6.5533\n",
      "326/326 [==============================] - 1s 2ms/step - loss: 51.1965 - mae: 5.0161\n",
      "326/326 [==============================] - 1s 2ms/step - loss: 90.3210 - mae: 6.8715\n",
      "326/326 [==============================] - 1s 2ms/step - loss: 85.7571 - mae: 6.5838\n",
      "326/326 [==============================] - 1s 2ms/step - loss: 91.2343 - mae: 6.8978\n",
      "Best params: hiddenlayer_num = 4.0, units_num = 200.0\n",
      "MSE:  51.19654846191406\n",
      "RMSE:  7.155176340378626\n",
      "R2:  0.6331124285135352\n",
      "MAE:  5.0160722732543945\n"
     ]
    }
   ],
   "source": [
    "DNN_param(x_train, x_test, y_train, y_test)"
   ]
  },
  {
   "cell_type": "markdown",
   "metadata": {
    "id": "Yd89R23JVUMX"
   },
   "source": [
    "# 2번 주제: 총 구매금액"
   ]
  },
  {
   "cell_type": "code",
   "execution_count": 8,
   "metadata": {
    "id": "KUuJVAhHVUMX"
   },
   "outputs": [],
   "source": [
    "data02_offline, data02_online, data03_offline, data03_online = pre_buy_amount_round()"
   ]
  },
  {
   "cell_type": "markdown",
   "metadata": {
    "id": "i8mVPrguVUMX"
   },
   "source": [
    "data02_offline"
   ]
  },
  {
   "cell_type": "code",
   "execution_count": 9,
   "metadata": {
    "id": "kYiqpcNdVUMX"
   },
   "outputs": [],
   "source": [
    "x_train, x_test, y_train, y_test = data_split(data02_offline)"
   ]
  },
  {
   "cell_type": "code",
   "execution_count": null,
   "metadata": {
    "id": "elZG7ajhVUMX"
   },
   "outputs": [],
   "source": [
    "RF_gridSearch(x_train, x_test, y_train, y_test)"
   ]
  },
  {
   "cell_type": "code",
   "execution_count": 11,
   "metadata": {
    "colab": {
     "base_uri": "https://localhost:8080/"
    },
    "id": "zYpcLGEbVUMY",
    "outputId": "41fbd4d2-738e-4954-b1a9-ab8910cc3bc9"
   },
   "outputs": [
    {
     "name": "stdout",
     "output_type": "stream",
     "text": [
      "[15:04:45] WARNING: /workspace/src/objective/regression_obj.cu:152: reg:linear is now deprecated in favor of reg:squarederror.\n",
      "Best score: 0.2276, Best params: {'learning_rate': 0.5, 'max_depth': 11}\n",
      "학습 데이터셋 정확도:  0.9719614598954888\n",
      "테스트 데이터셋 정확도:  0.9629054480973273\n",
      "MSE:  0.05065156790369528\n",
      "RMSE:  0.22505903204202954\n",
      "R2:  0.9629054480973273\n",
      "MAE:  0.14691330544262815\n"
     ]
    }
   ],
   "source": [
    "Boost_GridSearch(x_train, x_test, y_train, y_test, 'XGB')"
   ]
  },
  {
   "cell_type": "code",
   "execution_count": 12,
   "metadata": {
    "colab": {
     "base_uri": "https://localhost:8080/"
    },
    "id": "_hC2UKAkVUMY",
    "outputId": "df50bc47-6ffa-4f1c-acbd-00d4345af30a"
   },
   "outputs": [
    {
     "name": "stdout",
     "output_type": "stream",
     "text": [
      "Best score: 0.2777, Best params: {'learning_rate': 0.5, 'max_depth': 11}\n",
      "학습 데이터셋 정확도:  0.9448247900452864\n",
      "테스트 데이터셋 정확도:  0.9437297019938173\n",
      "MSE:  0.07683551018218307\n",
      "RMSE:  0.2771921899732802\n",
      "R2:  0.9437297019938173\n",
      "MAE:  0.18499609896692054\n"
     ]
    }
   ],
   "source": [
    "Boost_GridSearch(x_train, x_test, y_train, y_test, 'LGB')"
   ]
  },
  {
   "cell_type": "code",
   "execution_count": 10,
   "metadata": {
    "colab": {
     "base_uri": "https://localhost:8080/"
    },
    "id": "VRVWp12VVUMY",
    "outputId": "137440b8-ecd0-4c9e-96e1-95077c9c53d3",
    "scrolled": false
   },
   "outputs": [
    {
     "name": "stdout",
     "output_type": "stream",
     "text": [
      "Best score: 0.22, Best params: {'learning_rate': 0.5, 'max_depth': 11}\n",
      "학습 데이터셋 정확도:  0.9736622022119307\n",
      "테스트 데이터셋 정확도:  0.9655197868887309\n",
      "MSE:  0.04708176177250162\n",
      "RMSE:  0.2169833214154987\n",
      "R2:  0.9655197868887309\n",
      "MAE:  0.14395205806129727\n"
     ]
    }
   ],
   "source": [
    "Boost_GridSearch(x_train, x_test, y_train, y_test, 'CAT')"
   ]
  },
  {
   "cell_type": "code",
   "execution_count": null,
   "metadata": {
    "id": "0vlv1LNnVUMY"
   },
   "outputs": [],
   "source": [
    "DNN_param(x_train, x_test, y_train, y_test)"
   ]
  },
  {
   "cell_type": "markdown",
   "metadata": {
    "id": "ZVydOnsQVUMY"
   },
   "source": [
    "data02_online"
   ]
  },
  {
   "cell_type": "code",
   "execution_count": null,
   "metadata": {
    "id": "2Y6J6TV7VUMZ"
   },
   "outputs": [],
   "source": [
    "x_train, x_test, y_train, y_test = data_split(data02_online)"
   ]
  },
  {
   "cell_type": "code",
   "execution_count": null,
   "metadata": {
    "colab": {
     "base_uri": "https://localhost:8080/"
    },
    "id": "Js9rE1ExVUMZ",
    "outputId": "a2d6c663-3091-43c5-a5e0-d5ff9f17d231"
   },
   "outputs": [
    {
     "name": "stdout",
     "output_type": "stream",
     "text": [
      "Best score: 0.182, Best params: {'max_depth': 44.0, 'min_samples_split': 2, 'n_estimators': 110}\n",
      "학습 데이터셋 정확도:  0.996770150791519\n",
      "테스트 데이터셋 정확도:  0.9772672332867431\n",
      "MSE:  0.029055899396589722\n",
      "RMSE:  0.1704579109240452\n",
      "R2:  0.9772672332867431\n",
      "MAE:  0.09768761249372114\n"
     ]
    }
   ],
   "source": [
    "RF_gridSearch(x_train, x_test, y_train, y_test)"
   ]
  },
  {
   "cell_type": "code",
   "execution_count": null,
   "metadata": {
    "colab": {
     "base_uri": "https://localhost:8080/"
    },
    "id": "oVp1uOJTVUMZ",
    "outputId": "676930a1-6bc6-4534-82b1-f6cd2317e2cd"
   },
   "outputs": [
    {
     "name": "stdout",
     "output_type": "stream",
     "text": [
      "[11:28:46] WARNING: /workspace/src/objective/regression_obj.cu:152: reg:linear is now deprecated in favor of reg:squarederror.\n",
      "Best score: 0.1988, Best params: {'learning_rate': 0.5, 'max_depth': 11}\n",
      "학습 데이터셋 정확도:  0.9918790602413553\n",
      "테스트 데이터셋 정확도:  0.9719551844061946\n",
      "MSE:  0.03584549785637506\n",
      "RMSE:  0.1893290729295822\n",
      "R2:  0.9719551844061946\n",
      "MAE:  0.12439445908391916\n"
     ]
    }
   ],
   "source": [
    "Boost_GridSearch(x_train, x_test, y_train, y_test, 'XGB')"
   ]
  },
  {
   "cell_type": "code",
   "execution_count": null,
   "metadata": {
    "colab": {
     "base_uri": "https://localhost:8080/"
    },
    "id": "nn-Q-IhfVUMZ",
    "outputId": "bbbf84f2-d679-4b47-f3a9-fccc51ac41b7"
   },
   "outputs": [
    {
     "name": "stdout",
     "output_type": "stream",
     "text": [
      "Best score: 0.264, Best params: {'learning_rate': 0.5, 'max_depth': 11}\n",
      "학습 데이터셋 정확도:  0.9499271601646609\n",
      "테스트 데이터셋 정확도:  0.9460068172893995\n",
      "MSE:  0.06901141883561501\n",
      "RMSE:  0.262700245214227\n",
      "R2:  0.9460068172893995\n",
      "MAE:  0.18356988091689577\n"
     ]
    }
   ],
   "source": [
    "Boost_GridSearch(x_train, x_test, y_train, y_test, 'LGB')"
   ]
  },
  {
   "cell_type": "code",
   "execution_count": null,
   "metadata": {
    "colab": {
     "base_uri": "https://localhost:8080/"
    },
    "id": "C4xm8c3AVUMZ",
    "outputId": "c74a2c54-d693-4b96-e309-be680963724a"
   },
   "outputs": [
    {
     "name": "stdout",
     "output_type": "stream",
     "text": [
      "Best score: 0.1963, Best params: {'learning_rate': 0.5, 'max_depth': 11}\n",
      "학습 데이터셋 정확도:  0.9934483517426782\n",
      "테스트 데이터셋 정확도:  0.9725828782275513\n",
      "MSE:  0.03504321062247813\n",
      "RMSE:  0.18719831896274639\n",
      "R2:  0.9725828782275513\n",
      "MAE:  0.1263140168193499\n"
     ]
    }
   ],
   "source": [
    "Boost_GridSearch(x_train, x_test, y_train, y_test, 'CAT')"
   ]
  },
  {
   "cell_type": "code",
   "execution_count": null,
   "metadata": {
    "colab": {
     "base_uri": "https://localhost:8080/"
    },
    "id": "Xza0-ZlNVUMa",
    "outputId": "1f1395db-ccdc-4d16-bb80-d14bcfeaaaea"
   },
   "outputs": [
    {
     "name": "stdout",
     "output_type": "stream",
     "text": [
      "4018/4018 [==============================] - 7s 2ms/step - loss: 0.1093 - mae: 0.2305\n",
      "4018/4018 [==============================] - 7s 2ms/step - loss: 0.1033 - mae: 0.2318\n",
      "4018/4018 [==============================] - 7s 2ms/step - loss: 0.1000 - mae: 0.2283\n",
      "4018/4018 [==============================] - 7s 2ms/step - loss: 0.1140 - mae: 0.2487\n",
      "4018/4018 [==============================] - 7s 2ms/step - loss: 0.1133 - mae: 0.2291\n",
      "4018/4018 [==============================] - 7s 2ms/step - loss: 0.0955 - mae: 0.2241\n",
      "4018/4018 [==============================] - 8s 2ms/step - loss: 0.0990 - mae: 0.2173\n",
      "4018/4018 [==============================] - 7s 2ms/step - loss: 0.0946 - mae: 0.2186\n",
      "4018/4018 [==============================] - 8s 2ms/step - loss: 0.1157 - mae: 0.2480\n",
      "4018/4018 [==============================] - 8s 2ms/step - loss: 0.0906 - mae: 0.2214\n",
      "4018/4018 [==============================] - 8s 2ms/step - loss: 0.0982 - mae: 0.2194\n",
      "4018/4018 [==============================] - 8s 2ms/step - loss: 0.0902 - mae: 0.2155\n",
      "4018/4018 [==============================] - 7s 2ms/step - loss: 0.0945 - mae: 0.2178\n",
      "4018/4018 [==============================] - 8s 2ms/step - loss: 0.0993 - mae: 0.2164\n",
      "4018/4018 [==============================] - 8s 2ms/step - loss: 0.0889 - mae: 0.2176\n",
      "4018/4018 [==============================] - 8s 2ms/step - loss: 0.0986 - mae: 0.2175\n",
      "Best params: hiddenlayer_num = 4.0, units_num = 400.0\n",
      "MSE:  0.08890886604785919\n",
      "RMSE:  0.2981758978318992\n",
      "R2:  0.9304395233923007\n",
      "MAE:  0.21759279072284698\n"
     ]
    }
   ],
   "source": [
    "DNN_param(x_train, x_test, y_train, y_test)"
   ]
  },
  {
   "cell_type": "markdown",
   "metadata": {
    "id": "7WBewZfEVUMa"
   },
   "source": [
    "data03_offline"
   ]
  },
  {
   "cell_type": "code",
   "execution_count": null,
   "metadata": {
    "id": "r3ul9pkfVUMa"
   },
   "outputs": [],
   "source": [
    "x_train, x_test, y_train, y_test = data_split(data03_offline)"
   ]
  },
  {
   "cell_type": "code",
   "execution_count": null,
   "metadata": {
    "colab": {
     "base_uri": "https://localhost:8080/"
    },
    "id": "P3munpPKVUMa",
    "outputId": "3652304a-deb8-4032-bcfa-efb07d34b94b"
   },
   "outputs": [
    {
     "name": "stdout",
     "output_type": "stream",
     "text": [
      "Best score: 0.2167, Best params: {'max_depth': 41.0, 'min_samples_split': 2, 'n_estimators': 110}\n",
      "학습 데이터셋 정확도:  0.9958018562813906\n",
      "테스트 데이터셋 정확도:  0.9705357430420247\n",
      "MSE:  0.041353814686917394\n",
      "RMSE:  0.20335637360780556\n",
      "R2:  0.9705357430420247\n",
      "MAE:  0.11581736716833854\n"
     ]
    }
   ],
   "source": [
    "RF_gridSearch(x_train, x_test, y_train, y_test)"
   ]
  },
  {
   "cell_type": "code",
   "execution_count": null,
   "metadata": {
    "colab": {
     "base_uri": "https://localhost:8080/"
    },
    "id": "sFgWmYjTVUMa",
    "outputId": "2e283eaa-4bce-48d6-d321-0933055dab2d"
   },
   "outputs": [
    {
     "name": "stdout",
     "output_type": "stream",
     "text": [
      "[14:46:27] WARNING: /workspace/src/objective/regression_obj.cu:152: reg:linear is now deprecated in favor of reg:squarederror.\n",
      "Best score: 0.2267, Best params: {'learning_rate': 0.1, 'max_depth': 11}\n",
      "학습 데이터셋 정확도:  0.9816114247684077\n",
      "테스트 데이터셋 정확도:  0.9659059979321144\n",
      "MSE:  0.04785177666152163\n",
      "RMSE:  0.21875048951150172\n",
      "R2:  0.9659059979321144\n",
      "MAE:  0.1406740984681834\n"
     ]
    }
   ],
   "source": [
    "Boost_GridSearch(x_train, x_test, y_train, y_test, 'XGB')"
   ]
  },
  {
   "cell_type": "code",
   "execution_count": null,
   "metadata": {
    "colab": {
     "base_uri": "https://localhost:8080/"
    },
    "id": "k8wXxYK1VUMa",
    "outputId": "056a0e1c-23d8-470e-b8fc-bb12b3c8bb92"
   },
   "outputs": [
    {
     "name": "stdout",
     "output_type": "stream",
     "text": [
      "Best score: 0.2749, Best params: {'learning_rate': 0.5, 'max_depth': 11}\n",
      "학습 데이터셋 정확도:  0.954790833879181\n",
      "테스트 데이터셋 정확도:  0.9483527861730556\n",
      "MSE:  0.07248814428754634\n",
      "RMSE:  0.2692362239512847\n",
      "R2:  0.9483527861730556\n",
      "MAE:  0.18731542415857141\n"
     ]
    }
   ],
   "source": [
    "Boost_GridSearch(x_train, x_test, y_train, y_test, 'LGB')"
   ]
  },
  {
   "cell_type": "code",
   "execution_count": null,
   "metadata": {
    "colab": {
     "base_uri": "https://localhost:8080/"
    },
    "id": "6uWzHjmuVUMb",
    "outputId": "18618d23-1205-46f9-c8a1-3ce23e1ad2ef"
   },
   "outputs": [
    {
     "name": "stdout",
     "output_type": "stream",
     "text": [
      "Best score: 0.2266, Best params: {'learning_rate': 0.5, 'max_depth': 11}\n",
      "학습 데이터셋 정확도:  0.9964595535416878\n",
      "테스트 데이터셋 정확도:  0.9678750837839101\n",
      "MSE:  0.04508811587978421\n",
      "RMSE:  0.21233962390421673\n",
      "R2:  0.9678750837839101\n",
      "MAE:  0.1414326029499509\n"
     ]
    }
   ],
   "source": [
    "Boost_GridSearch(x_train, x_test, y_train, y_test, 'CAT')"
   ]
  },
  {
   "cell_type": "code",
   "execution_count": null,
   "metadata": {
    "colab": {
     "base_uri": "https://localhost:8080/"
    },
    "id": "4aX_AuuOVUMb",
    "outputId": "90fd3dfc-bbf4-47cb-e75c-c43559e04d56"
   },
   "outputs": [
    {
     "name": "stdout",
     "output_type": "stream",
     "text": [
      "2002/2002 [==============================] - 3s 2ms/step - loss: 0.1595 - mae: 0.2986\n",
      "2002/2002 [==============================] - 3s 2ms/step - loss: 0.1053 - mae: 0.2370\n",
      "2002/2002 [==============================] - 3s 2ms/step - loss: 0.1081 - mae: 0.2462\n",
      "2002/2002 [==============================] - 3s 2ms/step - loss: 0.1271 - mae: 0.2670\n",
      "2002/2002 [==============================] - 3s 2ms/step - loss: 0.1458 - mae: 0.2904\n",
      "2002/2002 [==============================] - 4s 2ms/step - loss: 0.1306 - mae: 0.2777\n",
      "2002/2002 [==============================] - 4s 2ms/step - loss: 0.1049 - mae: 0.2248\n",
      "2002/2002 [==============================] - 4s 2ms/step - loss: 0.0992 - mae: 0.2264\n",
      "2002/2002 [==============================] - 3s 2ms/step - loss: 0.0977 - mae: 0.2270\n",
      "2002/2002 [==============================] - 4s 2ms/step - loss: 0.1022 - mae: 0.2331\n",
      "2002/2002 [==============================] - 4s 2ms/step - loss: 0.0966 - mae: 0.2173\n",
      "2002/2002 [==============================] - 4s 2ms/step - loss: 0.1077 - mae: 0.2297\n",
      "2002/2002 [==============================] - 4s 2ms/step - loss: 0.1301 - mae: 0.2660\n",
      "2002/2002 [==============================] - 4s 2ms/step - loss: 0.0945 - mae: 0.2176\n",
      "2002/2002 [==============================] - 4s 2ms/step - loss: 0.1032 - mae: 0.2238\n",
      "2002/2002 [==============================] - 4s 2ms/step - loss: 0.1336 - mae: 0.2765\n",
      "Best params: hiddenlayer_num = 4.0, units_num = 300.0\n",
      "MSE:  0.09453966468572617\n",
      "RMSE:  0.3074730308266502\n",
      "R2:  0.9326412573088358\n",
      "MAE:  0.2176033854484558\n"
     ]
    }
   ],
   "source": [
    "DNN_param(x_train, x_test, y_train, y_test)"
   ]
  },
  {
   "cell_type": "markdown",
   "metadata": {
    "id": "QWSik5lKVUMb"
   },
   "source": [
    "data03_online"
   ]
  },
  {
   "cell_type": "code",
   "execution_count": null,
   "metadata": {
    "id": "ejU4TuwxVUMb"
   },
   "outputs": [],
   "source": [
    "x_train, x_test, y_train, y_test = data_split(data03_online)"
   ]
  },
  {
   "cell_type": "code",
   "execution_count": null,
   "metadata": {
    "colab": {
     "base_uri": "https://localhost:8080/"
    },
    "id": "MQXRHshBVUMb",
    "outputId": "b264f455-fb42-4abb-ef77-6e349349cdf0"
   },
   "outputs": [
    {
     "name": "stdout",
     "output_type": "stream",
     "text": [
      "Best score: 0.2201, Best params: {'max_depth': 31.0, 'min_samples_split': 2, 'n_estimators': 110}\n",
      "학습 데이터셋 정확도:  0.9928448478568042\n",
      "테스트 데이터셋 정확도:  0.949819935593933\n",
      "MSE:  0.043473145387550184\n",
      "RMSE:  0.20850214720129426\n",
      "R2:  0.949819935593933\n",
      "MAE:  0.12738636315082927\n"
     ]
    }
   ],
   "source": [
    "RF_gridSearch(x_train, x_test, y_train, y_test)"
   ]
  },
  {
   "cell_type": "code",
   "execution_count": null,
   "metadata": {
    "colab": {
     "base_uri": "https://localhost:8080/"
    },
    "id": "V4cHDd9LVUMb",
    "outputId": "7c66ea3f-1511-4d0a-fa2e-334c0529d3e4"
   },
   "outputs": [
    {
     "name": "stdout",
     "output_type": "stream",
     "text": [
      "[15:48:46] WARNING: /workspace/src/objective/regression_obj.cu:152: reg:linear is now deprecated in favor of reg:squarederror.\n",
      "Best score: 0.2091, Best params: {'learning_rate': 0.1, 'max_depth': 11}\n",
      "학습 데이터셋 정확도:  0.9915067306876965\n",
      "테스트 데이터셋 정확도:  0.9542644464189564\n",
      "MSE:  0.03962267473631243\n",
      "RMSE:  0.19905445168674935\n",
      "R2:  0.9542644464189564\n",
      "MAE:  0.12653519876657424\n"
     ]
    }
   ],
   "source": [
    "Boost_GridSearch(x_train, x_test, y_train, y_test, 'XGB')"
   ]
  },
  {
   "cell_type": "code",
   "execution_count": null,
   "metadata": {
    "colab": {
     "base_uri": "https://localhost:8080/"
    },
    "id": "YUpujw5HVUMb",
    "outputId": "b11e8a3c-18c9-49f9-c866-e26f09be1e5b"
   },
   "outputs": [
    {
     "name": "stdout",
     "output_type": "stream",
     "text": [
      "Best score: 0.2388, Best params: {'learning_rate': 0.5, 'max_depth': 11}\n",
      "학습 데이터셋 정확도:  0.9648054997513242\n",
      "테스트 데이터셋 정확도:  0.9387600323637674\n",
      "MSE:  0.0530548146577692\n",
      "RMSE:  0.2303363077280028\n",
      "R2:  0.9387600323637674\n",
      "MAE:  0.16611832333383686\n"
     ]
    }
   ],
   "source": [
    "Boost_GridSearch(x_train, x_test, y_train, y_test, 'LGB')"
   ]
  },
  {
   "cell_type": "code",
   "execution_count": null,
   "metadata": {
    "colab": {
     "base_uri": "https://localhost:8080/"
    },
    "id": "OvFOSBylVUMc",
    "outputId": "ada0147c-d4e5-44bd-de60-4ae2590dceba"
   },
   "outputs": [
    {
     "name": "stdout",
     "output_type": "stream",
     "text": [
      "Best score: 0.2099, Best params: {'learning_rate': 0.1, 'max_depth': 11}\n",
      "학습 데이터셋 정확도:  0.9940475580379253\n",
      "테스트 데이터셋 정확도:  0.9548544743292341\n",
      "MSE:  0.039111508211721074\n",
      "RMSE:  0.19776629695608167\n",
      "R2:  0.9548544743292341\n",
      "MAE:  0.13529552347000315\n"
     ]
    }
   ],
   "source": [
    "Boost_GridSearch(x_train, x_test, y_train, y_test, 'CAT')"
   ]
  },
  {
   "cell_type": "code",
   "execution_count": null,
   "metadata": {
    "colab": {
     "base_uri": "https://localhost:8080/"
    },
    "id": "jNHkOiQrVUMc",
    "outputId": "d6d49897-f640-4b82-8c12-9a00f965e61e"
   },
   "outputs": [
    {
     "name": "stdout",
     "output_type": "stream",
     "text": [
      "326/326 [==============================] - 1s 2ms/step - loss: 0.1390 - mae: 0.2820\n",
      "326/326 [==============================] - 1s 2ms/step - loss: 0.3474 - mae: 0.4889\n",
      "326/326 [==============================] - 1s 2ms/step - loss: 0.1151 - mae: 0.2544\n",
      "326/326 [==============================] - 1s 2ms/step - loss: 0.1746 - mae: 0.3455\n",
      "326/326 [==============================] - 1s 2ms/step - loss: 0.1233 - mae: 0.2673\n",
      "326/326 [==============================] - 1s 2ms/step - loss: 0.1139 - mae: 0.2739\n",
      "326/326 [==============================] - 1s 2ms/step - loss: 0.1049 - mae: 0.2432\n",
      "326/326 [==============================] - 1s 2ms/step - loss: 0.1108 - mae: 0.2507\n",
      "326/326 [==============================] - 1s 2ms/step - loss: 0.1012 - mae: 0.2516\n",
      "326/326 [==============================] - 1s 2ms/step - loss: 0.1221 - mae: 0.2654\n",
      "326/326 [==============================] - 1s 2ms/step - loss: 0.1058 - mae: 0.2462\n",
      "326/326 [==============================] - 1s 2ms/step - loss: 0.1026 - mae: 0.2412\n",
      "326/326 [==============================] - 1s 2ms/step - loss: 0.0964 - mae: 0.2378\n",
      "326/326 [==============================] - 1s 2ms/step - loss: 0.1152 - mae: 0.2576\n",
      "326/326 [==============================] - 1s 2ms/step - loss: 0.1107 - mae: 0.2556\n",
      "326/326 [==============================] - 1s 2ms/step - loss: 0.1045 - mae: 0.2424\n",
      "Best params: hiddenlayer_num = 4.0, units_num = 200.0\n",
      "MSE:  0.09639185667037964\n",
      "RMSE:  0.3104703796989008\n",
      "R2:  0.888737026844638\n",
      "MAE:  0.23775334656238556\n"
     ]
    }
   ],
   "source": [
    "DNN_param(x_train, x_test, y_train, y_test)"
   ]
  }
 ],
 "metadata": {
  "accelerator": "GPU",
  "colab": {
   "collapsed_sections": [],
   "machine_shape": "hm",
   "name": "hyperparamTuning.ipynb",
   "provenance": []
  },
  "gpuClass": "standard",
  "kernelspec": {
   "display_name": "Python 3 (ipykernel)",
   "language": "python",
   "name": "python3"
  },
  "language_info": {
   "codemirror_mode": {
    "name": "ipython",
    "version": 3
   },
   "file_extension": ".py",
   "mimetype": "text/x-python",
   "name": "python",
   "nbconvert_exporter": "python",
   "pygments_lexer": "ipython3",
   "version": "3.10.4"
  }
 },
 "nbformat": 4,
 "nbformat_minor": 1
}
