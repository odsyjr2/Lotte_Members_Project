{
 "cells": [
  {
   "cell_type": "code",
   "execution_count": 1,
   "id": "75424541",
   "metadata": {},
   "outputs": [
    {
     "name": "stdout",
     "output_type": "stream",
     "text": [
      "importing Jupyter notebook from Preprocessing.ipynb\n"
     ]
    }
   ],
   "source": [
    "import numpy as np\n",
    "import tensorflow as tf\n",
    "from sklearn.ensemble import RandomForestRegressor\n",
    "from sklearn.metrics import mean_squared_error, mean_absolute_error, r2_score\n",
    "import tensorflow.keras as keras\n",
    "from keras.models import Sequential\n",
    "from keras.callbacks import EarlyStopping, ModelCheckpoint\n",
    "from xgboost import XGBRegressor\n",
    "from lightgbm import LGBMRegressor\n",
    "from catboost import CatBoostRegressor\n",
    "import warnings\n",
    "warnings.filterwarnings('ignore')\n",
    "import import_ipynb\n",
    "from Preprocessing import pre_buy_num, pre_buy_amount_round, data_split\n",
    "    \n",
    "def RF_model(x_train, y_train, max_depth, n_estimators, min_samples_split):\n",
    "    model = RandomForestRegressor(max_depth = max_depth, n_estimators = n_estimators, min_samples_split = min_samples_split, random_state=2022)\n",
    "    model.fit(x_train,y_train)\n",
    "    return model\n",
    "\n",
    "def XGB_model(x_train, y_train, max_depth, learning_rate):\n",
    "    model=XGBRegressor(max_depth = max_depth, learning_rate = learning_rate, random_state=2022)\n",
    "    model.fit(x_train,y_train)\n",
    "    return model\n",
    "\n",
    "def LGB_model(x_train, y_train, max_depth, learning_rate):\n",
    "    model=LGBMRegressor(max_depth = max_depth, learning_rate = learning_rate, random_state=2022)\n",
    "    model.fit(x_train,y_train)\n",
    "    return model\n",
    "\n",
    "def CAT_model(x_train, y_train, max_depth, learning_rate):\n",
    "    model=CatBoostRegressor(max_depth = max_depth, learning_rate = learning_rate, random_state=2022, silent=True)\n",
    "    model.fit(x_train,y_train)\n",
    "    return model\n",
    "\n",
    "def DNN_model(x_train, y_train, hidden, units):\n",
    "    np.random.seed(2022)\n",
    "    tf.random.set_seed(2022)\n",
    "    initializer = tf.keras.initializers.GlorotUniform(seed=2022)\n",
    "    \n",
    "    early_stopping = EarlyStopping(monitor='val_loss', mode='min', verbose=0, patience=5)\n",
    "    check_point = ModelCheckpoint('temp/DNN_temp.h5',monitor='val_loss',mode='min',save_best_only=True)\n",
    "    \n",
    "    model = Sequential()\n",
    "    model.add(keras.layers.Dense(units=units, activation='relu', input_shape=(x_train.shape[1],), kernel_initializer=initializer))\n",
    "    for i in range(hidden):\n",
    "        model.add(keras.layers.Dense(units=units, activation='relu', kernel_initializer=initializer))\n",
    "    model.add(keras.layers.Dense(units=1, activation='linear', kernel_initializer=initializer))\n",
    "    model.compile(optimizer='adam', loss='mse', metrics='mae')\n",
    "    model.fit(x_train, y_train, epochs=50, batch_size=128, validation_split=0.2, callbacks=[early_stopping,check_point], verbose=0)\n",
    "    return model\n",
    "\n",
    "def model_evaluate(model, x_test, y_test):\n",
    "    pred = model.predict(x_test)\n",
    "    print(\"MSE: \", mean_squared_error(y_test, pred))\n",
    "    print(\"RMSE: \", np.sqrt(mean_squared_error(y_test, pred)))\n",
    "    print(\"MAE: \", mean_absolute_error(y_test, pred))\n",
    "    print(\"R2_score: \", r2_score(y_test, pred))"
   ]
  },
  {
   "cell_type": "markdown",
   "id": "9679ae98",
   "metadata": {},
   "source": [
    "# 1번 주제: 총 구매횟수"
   ]
  },
  {
   "cell_type": "code",
   "execution_count": 11,
   "id": "3724e819",
   "metadata": {},
   "outputs": [],
   "source": [
    "data02_offline, data02_online, data03_offline, data03_online = pre_buy_num()"
   ]
  },
  {
   "cell_type": "markdown",
   "id": "16210761",
   "metadata": {},
   "source": [
    "data02_offline"
   ]
  },
  {
   "cell_type": "code",
   "execution_count": 12,
   "id": "53da05a0",
   "metadata": {},
   "outputs": [
    {
     "name": "stdout",
     "output_type": "stream",
     "text": [
      "-----RF_model-----\n",
      "MSE:  13.825715086623482\n",
      "RMSE:  3.7182946476339773\n",
      "MAE:  1.8821173642530065\n",
      "R2_score:  0.943926525023831\n",
      "-----XGB_model-----\n",
      "MSE:  29.0609207235331\n",
      "RMSE:  5.39081818683705\n",
      "MAE:  3.3657653763749265\n",
      "R2_score:  0.8821365259760006\n",
      "-----LGB_model-----\n",
      "MSE:  63.10166936270983\n",
      "RMSE:  7.9436559192043195\n",
      "MAE:  4.7570279034979555\n",
      "R2_score:  0.744076175749653\n",
      "-----CAT_model-----\n",
      "MSE:  27.540089635302632\n",
      "RMSE:  5.24786524553581\n",
      "MAE:  3.3641174677513015\n",
      "R2_score:  0.8883046180735571\n",
      "-----DNN_model-----\n",
      "37062/37062 [==============================] - 41s 1ms/step\n",
      "MSE:  57.652041695393855\n",
      "RMSE:  7.5928941580529\n",
      "MAE:  4.506258856695938\n",
      "R2_score:  0.7661784365526644\n"
     ]
    }
   ],
   "source": [
    "x_train, x_test, y_train, y_test = data_split(data02_offline)\n",
    "print('-----RF_model-----')\n",
    "model_evaluate(RF_model(x_train, y_train, max_depth = 44, n_estimators = 110, min_samples_split = 2), x_test, y_test)\n",
    "print('-----XGB_model-----')\n",
    "model_evaluate(XGB_model(x_train, y_train, max_depth = 11, learning_rate = 0.5), x_test, y_test)\n",
    "print('-----LGB_model-----')\n",
    "model_evaluate(LGB_model(x_train, y_train, max_depth = 11, learning_rate = 0.5), x_test, y_test)\n",
    "print('-----CAT_model-----')\n",
    "model_evaluate(CAT_model(x_train, y_train, max_depth = 11, learning_rate = 0.5), x_test, y_test)\n",
    "print('-----DNN_model-----')\n",
    "model_evaluate(DNN_model(x_train, y_train, hidden = 3, units = 300), x_test, y_test)"
   ]
  },
  {
   "cell_type": "markdown",
   "id": "7603bcca",
   "metadata": {},
   "source": [
    "data02_online"
   ]
  },
  {
   "cell_type": "code",
   "execution_count": 3,
   "id": "cf27e234",
   "metadata": {},
   "outputs": [
    {
     "name": "stdout",
     "output_type": "stream",
     "text": [
      "-----RF_model-----\n",
      "MSE:  7.6723592022630225\n",
      "RMSE:  2.7699023813598598\n",
      "MAE:  1.366625534426022\n",
      "R2_score:  0.8900722076220451\n",
      "-----XGB_model-----\n",
      "MSE:  9.48515378658477\n",
      "RMSE:  3.079797685982761\n",
      "MAE:  1.7748147565596528\n",
      "R2_score:  0.8640989050907424\n",
      "-----LGB_model-----\n",
      "MSE:  19.710278760732855\n",
      "RMSE:  4.439625970814755\n",
      "MAE:  2.741841197125275\n",
      "R2_score:  0.7175956737423911\n",
      "-----CAT_model-----\n",
      "MSE:  9.949124258715731\n",
      "RMSE:  3.154223241737295\n",
      "MAE:  1.865262517478538\n",
      "R2_score:  0.8574512432196884\n",
      "-----DNN_model-----\n",
      "4018/4018 [==============================] - 5s 1ms/step\n",
      "MSE:  23.80589813143926\n",
      "RMSE:  4.879128829149653\n",
      "MAE:  2.8565496234196224\n",
      "R2_score:  0.6589145843964508\n"
     ]
    }
   ],
   "source": [
    "x_train, x_test, y_train, y_test = data_split(data02_online)\n",
    "print('-----RF_model-----')\n",
    "model_evaluate(RF_model(x_train, y_train, max_depth = 45, n_estimators = 110, min_samples_split = 2), x_test, y_test)\n",
    "print('-----XGB_model-----')\n",
    "model_evaluate(XGB_model(x_train, y_train, max_depth = 11, learning_rate = 0.5), x_test, y_test)\n",
    "print('-----LGB_model-----')\n",
    "model_evaluate(LGB_model(x_train, y_train, max_depth = 11, learning_rate = 0.5), x_test, y_test)\n",
    "print('-----CAT_model-----')\n",
    "model_evaluate(CAT_model(x_train, y_train, max_depth = 11, learning_rate = 0.5), x_test, y_test)\n",
    "print('-----DNN_model-----')\n",
    "model_evaluate(DNN_model(x_train, y_train, hidden = 4, units = 300), x_test, y_test)"
   ]
  },
  {
   "cell_type": "markdown",
   "id": "a70a2536",
   "metadata": {},
   "source": [
    "data03_offline"
   ]
  },
  {
   "cell_type": "code",
   "execution_count": 4,
   "id": "a4eb39b3",
   "metadata": {},
   "outputs": [
    {
     "name": "stdout",
     "output_type": "stream",
     "text": [
      "-----RF_model-----\n",
      "MSE:  20.317747135546394\n",
      "RMSE:  4.507521174165063\n",
      "MAE:  2.3440311014307085\n",
      "R2_score:  0.906086845701141\n",
      "-----XGB_model-----\n",
      "MSE:  27.94368348115595\n",
      "RMSE:  5.286178532849222\n",
      "MAE:  3.25581305500181\n",
      "R2_score:  0.870838068761421\n",
      "-----LGB_model-----\n",
      "MSE:  46.1101184502623\n",
      "RMSE:  6.790443170387504\n",
      "MAE:  4.779878302225002\n",
      "R2_score:  0.786868758634066\n",
      "-----CAT_model-----\n",
      "MSE:  26.01372822640551\n",
      "RMSE:  5.100365499295664\n",
      "MAE:  3.389803629488527\n",
      "R2_score:  0.8797587519661142\n",
      "-----DNN_model-----\n",
      "2002/2002 [==============================] - 2s 1ms/step\n",
      "MSE:  64.66578527092405\n",
      "RMSE:  8.04150391847968\n",
      "MAE:  5.318389244975679\n",
      "R2_score:  0.7011003321632853\n"
     ]
    }
   ],
   "source": [
    "x_train, x_test, y_train, y_test = data_split(data03_offline)\n",
    "print('-----RF_model-----')\n",
    "model_evaluate(RF_model(x_train, y_train, max_depth = 44, n_estimators = 110, min_samples_split = 2), x_test, y_test)\n",
    "print('-----XGB_model-----')\n",
    "model_evaluate(XGB_model(x_train, y_train, max_depth = 11, learning_rate = 0.5), x_test, y_test)\n",
    "print('-----LGB_model-----')\n",
    "model_evaluate(LGB_model(x_train, y_train, max_depth = 11, learning_rate = 0.5), x_test, y_test)\n",
    "print('-----CAT_model-----')\n",
    "model_evaluate(CAT_model(x_train, y_train, max_depth = 11, learning_rate = 0.1), x_test, y_test)\n",
    "print('-----DNN_model-----')\n",
    "model_evaluate(DNN_model(x_train, y_train, hidden = 3, units = 300), x_test, y_test)"
   ]
  },
  {
   "cell_type": "markdown",
   "id": "5332586d",
   "metadata": {},
   "source": [
    "data03_online"
   ]
  },
  {
   "cell_type": "code",
   "execution_count": 5,
   "id": "c0932863",
   "metadata": {},
   "outputs": [
    {
     "name": "stdout",
     "output_type": "stream",
     "text": [
      "-----RF_model-----\n",
      "MSE:  12.28855545907168\n",
      "RMSE:  3.50550359564381\n",
      "MAE:  2.015202506061392\n",
      "R2_score:  0.9119370787000942\n",
      "-----XGB_model-----\n",
      "MSE:  12.431996601838208\n",
      "RMSE:  3.5259036574810447\n",
      "MAE:  2.157047173804479\n",
      "R2_score:  0.9109091429017256\n",
      "-----LGB_model-----\n",
      "MSE:  18.895961225021296\n",
      "RMSE:  4.34694849578659\n",
      "MAE:  2.97938748583994\n",
      "R2_score:  0.8645867244699867\n",
      "-----CAT_model-----\n",
      "MSE:  11.911666452296796\n",
      "RMSE:  3.4513282156724525\n",
      "MAE:  2.23701604440326\n",
      "R2_score:  0.9146379614078266\n",
      "-----DNN_model-----\n",
      "326/326 [==============================] - 0s 1ms/step\n",
      "MSE:  50.26939277141776\n",
      "RMSE:  7.0900911680610825\n",
      "MAE:  4.919763518142984\n",
      "R2_score:  0.6397567155742946\n"
     ]
    }
   ],
   "source": [
    "x_train, x_test, y_train, y_test = data_split(data03_online)\n",
    "print('-----RF_model-----')\n",
    "model_evaluate(RF_model(x_train, y_train, max_depth = 35, n_estimators = 110, min_samples_split = 2), x_test, y_test)\n",
    "print('-----XGB_model-----')\n",
    "model_evaluate(XGB_model(x_train, y_train, max_depth = 11, learning_rate = 0.1), x_test, y_test)\n",
    "print('-----LGB_model-----')\n",
    "model_evaluate(LGB_model(x_train, y_train, max_depth = 11, learning_rate = 0.5), x_test, y_test)\n",
    "print('-----CAT_model-----')\n",
    "model_evaluate(CAT_model(x_train, y_train, max_depth = 11, learning_rate = 0.1), x_test, y_test)\n",
    "print('-----DNN_model-----')\n",
    "model_evaluate(DNN_model(x_train, y_train, hidden = 4, units = 200), x_test, y_test)"
   ]
  },
  {
   "cell_type": "markdown",
   "id": "1e6dda8f",
   "metadata": {},
   "source": [
    "# 2번 주제: 총 구매금액"
   ]
  },
  {
   "cell_type": "code",
   "execution_count": 6,
   "id": "6fdba01e",
   "metadata": {},
   "outputs": [],
   "source": [
    "data02_offline, data02_online, data03_offline, data03_online = pre_buy_amount_round()"
   ]
  },
  {
   "cell_type": "markdown",
   "id": "2968531c",
   "metadata": {},
   "source": [
    "data02_offline"
   ]
  },
  {
   "cell_type": "code",
   "execution_count": 10,
   "id": "5aa5a98e",
   "metadata": {},
   "outputs": [
    {
     "name": "stdout",
     "output_type": "stream",
     "text": [
      "-----RF_model-----\n",
      "MSE:  0.03414273023157042\n",
      "RMSE:  0.18477751549247115\n",
      "MAE:  0.10336543873874311\n",
      "R2_score:  0.9749956549996245\n",
      "-----XGB_model-----\n",
      "MSE:  0.05054178351746251\n",
      "RMSE:  0.22481499842640063\n",
      "MAE:  0.1463730486391746\n",
      "R2_score:  0.9629858484241436\n",
      "-----LGB_model-----\n",
      "MSE:  0.07683551018218308\n",
      "RMSE:  0.27719218997328027\n",
      "MAE:  0.18499609896692046\n",
      "R2_score:  0.9437297019938173\n",
      "-----CAT_model-----\n",
      "MSE:  0.04708176177250162\n",
      "RMSE:  0.2169833214154987\n",
      "MAE:  0.14395205806129727\n",
      "R2_score:  0.9655197868887309\n",
      "-----DNN_model-----\n",
      "37062/37062 [==============================] - 42s 1ms/step\n",
      "MSE:  0.09799024717893276\n",
      "RMSE:  0.31303393934034174\n",
      "MAE:  0.21863694194459599\n",
      "R2_score:  0.928237082081136\n"
     ]
    }
   ],
   "source": [
    "x_train, x_test, y_train, y_test = data_split(data02_offline)\n",
    "print('-----RF_model-----')\n",
    "model_evaluate(RF_model(x_train, y_train, max_depth = 44, n_estimators = 110, min_samples_split = 2), x_test, y_test)\n",
    "print('-----XGB_model-----')\n",
    "model_evaluate(XGB_model(x_train, y_train, max_depth = 11, learning_rate = 0.5), x_test, y_test)\n",
    "print('-----LGB_model-----')\n",
    "model_evaluate(LGB_model(x_train, y_train, max_depth = 11, learning_rate = 0.5), x_test, y_test)\n",
    "print('-----CAT_model-----')\n",
    "model_evaluate(CAT_model(x_train, y_train, max_depth = 11, learning_rate = 0.5), x_test, y_test)\n",
    "print('-----DNN_model-----')\n",
    "model_evaluate(DNN_model(x_train, y_train, hidden = 3, units = 300), x_test, y_test)"
   ]
  },
  {
   "cell_type": "markdown",
   "id": "713abc17",
   "metadata": {},
   "source": [
    "data02_online"
   ]
  },
  {
   "cell_type": "code",
   "execution_count": 7,
   "id": "d52b2dce",
   "metadata": {},
   "outputs": [
    {
     "name": "stdout",
     "output_type": "stream",
     "text": [
      "-----RF_model-----\n",
      "MSE:  0.029092117296441636\n",
      "RMSE:  0.1705641149141332\n",
      "MAE:  0.0977723216886449\n",
      "R2_score:  0.9772388971111204\n",
      "-----XGB_model-----\n",
      "MSE:  0.03584549738491247\n",
      "RMSE:  0.18932907168449453\n",
      "MAE:  0.12439446003441203\n",
      "R2_score:  0.9719551847750576\n",
      "-----LGB_model-----\n",
      "MSE:  0.069011418835615\n",
      "RMSE:  0.262700245214227\n",
      "MAE:  0.18356988091689577\n",
      "R2_score:  0.9460068172893995\n",
      "-----CAT_model-----\n",
      "MSE:  0.03504321062247813\n",
      "RMSE:  0.18719831896274639\n",
      "MAE:  0.1263140168193499\n",
      "R2_score:  0.9725828782275513\n",
      "-----DNN_model-----\n",
      "4018/4018 [==============================] - 5s 1ms/step\n",
      "MSE:  0.10576919285727693\n",
      "RMSE:  0.3252217595076887\n",
      "MAE:  0.24214649511911399\n",
      "R2_score:  0.9172482546881288\n"
     ]
    }
   ],
   "source": [
    "x_train, x_test, y_train, y_test = data_split(data02_online)\n",
    "print('-----RF_model-----')\n",
    "model_evaluate(RF_model(x_train, y_train, max_depth = 44, n_estimators = 110, min_samples_split = 2), x_test, y_test)\n",
    "print('-----XGB_model-----')\n",
    "model_evaluate(XGB_model(x_train, y_train, max_depth = 11, learning_rate = 0.5), x_test, y_test)\n",
    "print('-----LGB_model-----')\n",
    "model_evaluate(LGB_model(x_train, y_train, max_depth = 11, learning_rate = 0.5), x_test, y_test)\n",
    "print('-----CAT_model-----')\n",
    "model_evaluate(CAT_model(x_train, y_train, max_depth = 11, learning_rate = 0.5), x_test, y_test)\n",
    "print('-----DNN_model-----')\n",
    "model_evaluate(DNN_model(x_train, y_train, hidden = 4, units = 400), x_test, y_test)"
   ]
  },
  {
   "cell_type": "markdown",
   "id": "4d0324a0",
   "metadata": {},
   "source": [
    "data03_offline"
   ]
  },
  {
   "cell_type": "code",
   "execution_count": 8,
   "id": "141e22df",
   "metadata": {},
   "outputs": [
    {
     "name": "stdout",
     "output_type": "stream",
     "text": [
      "-----RF_model-----\n",
      "MSE:  0.04136030320994245\n",
      "RMSE:  0.20337232655880802\n",
      "MAE:  0.11574836018971259\n",
      "R2_score:  0.9705311200220896\n",
      "-----XGB_model-----\n",
      "MSE:  0.04788547869668117\n",
      "RMSE:  0.21882750900350983\n",
      "MAE:  0.14086004648878991\n",
      "R2_score:  0.9658819855058978\n",
      "-----LGB_model-----\n",
      "MSE:  0.07248814428754634\n",
      "RMSE:  0.2692362239512847\n",
      "MAE:  0.18731542415857147\n",
      "R2_score:  0.9483527861730556\n",
      "-----CAT_model-----\n",
      "MSE:  0.04508811587978421\n",
      "RMSE:  0.21233962390421673\n",
      "MAE:  0.1414326029499509\n",
      "R2_score:  0.9678750837839101\n",
      "-----DNN_model-----\n",
      "2002/2002 [==============================] - 3s 1ms/step\n",
      "MSE:  0.09953898434055505\n",
      "RMSE:  0.31549799419418667\n",
      "MAE:  0.22399157434455913\n",
      "R2_score:  0.9290792824277508\n"
     ]
    }
   ],
   "source": [
    "x_train, x_test, y_train, y_test = data_split(data03_offline)\n",
    "print('-----RF_model-----')\n",
    "model_evaluate(RF_model(x_train, y_train, max_depth = 41, n_estimators = 110, min_samples_split = 2), x_test, y_test)\n",
    "print('-----XGB_model-----')\n",
    "model_evaluate(XGB_model(x_train, y_train, max_depth = 11, learning_rate = 0.1), x_test, y_test)\n",
    "print('-----LGB_model-----')\n",
    "model_evaluate(LGB_model(x_train, y_train, max_depth = 11, learning_rate = 0.5), x_test, y_test)\n",
    "print('-----CAT_model-----')\n",
    "model_evaluate(CAT_model(x_train, y_train, max_depth = 11, learning_rate = 0.5), x_test, y_test)\n",
    "print('-----DNN_model-----')\n",
    "model_evaluate(DNN_model(x_train, y_train, hidden = 4, units = 300), x_test, y_test)"
   ]
  },
  {
   "cell_type": "markdown",
   "id": "dac33ead",
   "metadata": {},
   "source": [
    "data03_online"
   ]
  },
  {
   "cell_type": "code",
   "execution_count": 9,
   "id": "74b1e230",
   "metadata": {},
   "outputs": [
    {
     "name": "stdout",
     "output_type": "stream",
     "text": [
      "-----RF_model-----\n",
      "MSE:  0.04344909562690574\n",
      "RMSE:  0.20844446652983079\n",
      "MAE:  0.12730458724187615\n",
      "R2_score:  0.9498476956864529\n",
      "-----XGB_model-----\n",
      "MSE:  0.03962267811430214\n",
      "RMSE:  0.19905446017183875\n",
      "MAE:  0.1265351981973035\n",
      "R2_score:  0.9542644425198196\n",
      "-----LGB_model-----\n",
      "MSE:  0.0530548146577692\n",
      "RMSE:  0.2303363077280028\n",
      "MAE:  0.16611832333383686\n",
      "R2_score:  0.9387600323637674\n",
      "-----CAT_model-----\n",
      "MSE:  0.039111508211721074\n",
      "RMSE:  0.19776629695608167\n",
      "MAE:  0.13529552347000315\n",
      "R2_score:  0.9548544743292341\n",
      "-----DNN_model-----\n",
      "326/326 [==============================] - 0s 1ms/step\n",
      "MSE:  0.11798729968601715\n",
      "RMSE:  0.343492794227211\n",
      "MAE:  0.2594516051947586\n",
      "R2_score:  0.8638099395716186\n"
     ]
    }
   ],
   "source": [
    "x_train, x_test, y_train, y_test = data_split(data03_online)\n",
    "print('-----RF_model-----')\n",
    "model_evaluate(RF_model(x_train, y_train, max_depth = 31, n_estimators = 110, min_samples_split = 2), x_test, y_test)\n",
    "print('-----XGB_model-----')\n",
    "model_evaluate(XGB_model(x_train, y_train, max_depth = 11, learning_rate = 0.1), x_test, y_test)\n",
    "print('-----LGB_model-----')\n",
    "model_evaluate(LGB_model(x_train, y_train, max_depth = 11, learning_rate = 0.5), x_test, y_test)\n",
    "print('-----CAT_model-----')\n",
    "model_evaluate(CAT_model(x_train, y_train, max_depth = 11, learning_rate = 0.1), x_test, y_test)\n",
    "print('-----DNN_model-----')\n",
    "model_evaluate(DNN_model(x_train, y_train, hidden = 4, units = 200), x_test, y_test)"
   ]
  }
 ],
 "metadata": {
  "kernelspec": {
   "display_name": "Python 3 (ipykernel)",
   "language": "python",
   "name": "python3"
  },
  "language_info": {
   "codemirror_mode": {
    "name": "ipython",
    "version": 3
   },
   "file_extension": ".py",
   "mimetype": "text/x-python",
   "name": "python",
   "nbconvert_exporter": "python",
   "pygments_lexer": "ipython3",
   "version": "3.10.4"
  }
 },
 "nbformat": 4,
 "nbformat_minor": 5
}
