{
 "cells": [
  {
   "cell_type": "code",
   "execution_count": 1,
   "id": "75424541",
   "metadata": {},
   "outputs": [
    {
     "name": "stdout",
     "output_type": "stream",
     "text": [
      "importing Jupyter notebook from Preprocessing.ipynb\n"
     ]
    }
   ],
   "source": [
    "import numpy as np\n",
    "import tensorflow as tf\n",
    "from sklearn.ensemble import RandomForestRegressor\n",
    "from sklearn.metrics import mean_squared_error, mean_absolute_error, r2_score\n",
    "import tensorflow.keras as keras\n",
    "from keras.models import Sequential\n",
    "from keras.callbacks import EarlyStopping, ModelCheckpoint\n",
    "from xgboost import XGBRegressor\n",
    "from lightgbm import LGBMRegressor\n",
    "from catboost import CatBoostRegressor\n",
    "import warnings\n",
    "warnings.filterwarnings('ignore')\n",
    "import import_ipynb\n",
    "from Preprocessing import pre_buy_num, pre_buy_amount_round, data_split\n",
    "    \n",
    "def RF_model(x_train, y_train):\n",
    "    model = RandomForestRegressor(random_state=2022)\n",
    "    model.fit(x_train,y_train)\n",
    "    return model\n",
    "\n",
    "def XGB_model(x_train, y_train):\n",
    "    model=XGBRegressor(random_state=2022)\n",
    "    model.fit(x_train,y_train)\n",
    "    return model\n",
    "\n",
    "def LGB_model(x_train, y_train):\n",
    "    model=LGBMRegressor(random_state=2022)\n",
    "    model.fit(x_train,y_train)\n",
    "    return model\n",
    "\n",
    "def CAT_model(x_train, y_train):\n",
    "    model=CatBoostRegressor(random_state=2022, silent=True)\n",
    "    model.fit(x_train,y_train)\n",
    "    return model\n",
    "\n",
    "def DNN_model(x_train, y_train):\n",
    "    np.random.seed(2022)\n",
    "    tf.random.set_seed(2022)\n",
    "    initializer = tf.keras.initializers.GlorotUniform(seed=2022)\n",
    "    \n",
    "    early_stopping = EarlyStopping(monitor='val_loss', mode='min', verbose=0, patience=5)\n",
    "    check_point = ModelCheckpoint('temp/DNN_temp.h5',monitor='val_loss',mode='min',save_best_only=True)\n",
    "    \n",
    "    model = Sequential()\n",
    "    model.add(keras.layers.Dense(units=100, activation='relu', input_shape=(x_train.shape[1],), kernel_initializer=initializer))\n",
    "    model.add(keras.layers.Dense(units=1, activation='linear', kernel_initializer=initializer))\n",
    "    model.compile(optimizer='adam', loss='mse', metrics='mae')\n",
    "    model.fit(x_train, y_train, epochs=50, batch_size=128, validation_split=0.2, callbacks=[early_stopping,check_point], verbose=0)\n",
    "    return model\n",
    "\n",
    "def model_evaluate(model, x_test, y_test):\n",
    "    pred = model.predict(x_test)\n",
    "    print(\"MSE: \", mean_squared_error(y_test, pred))\n",
    "    print(\"RMSE: \", np.sqrt(mean_squared_error(y_test, pred)))\n",
    "    print(\"MAE: \", mean_absolute_error(y_test, pred))\n",
    "    print(\"R2_score: \", r2_score(y_test, pred))"
   ]
  },
  {
   "cell_type": "markdown",
   "id": "9679ae98",
   "metadata": {},
   "source": [
    "# 1번 주제: 총 구매횟수"
   ]
  },
  {
   "cell_type": "code",
   "execution_count": 2,
   "id": "3724e819",
   "metadata": {},
   "outputs": [],
   "source": [
    "data02_offline, data02_online, data03_offline, data03_online = pre_buy_num()"
   ]
  },
  {
   "cell_type": "markdown",
   "id": "16210761",
   "metadata": {},
   "source": [
    "data02_offline"
   ]
  },
  {
   "cell_type": "code",
   "execution_count": 3,
   "id": "53da05a0",
   "metadata": {},
   "outputs": [
    {
     "name": "stdout",
     "output_type": "stream",
     "text": [
      "-----RF_model-----\n",
      "MSE:  13.84251716770187\n",
      "RMSE:  3.7205533416014704\n",
      "MAE:  1.8821490894656185\n",
      "R2_score:  0.9438583801888627\n",
      "-----XGB_model-----\n",
      "MSE:  68.98854621729146\n",
      "RMSE:  8.305934397603407\n",
      "MAE:  4.869756863244332\n",
      "R2_score:  0.7202005468997179\n",
      "-----LGB_model-----\n",
      "MSE:  82.77025808346383\n",
      "RMSE:  9.097816116160176\n",
      "MAE:  5.202362240739461\n",
      "R2_score:  0.664305537447059\n",
      "-----CAT_model-----\n",
      "MSE:  65.53041609791191\n",
      "RMSE:  8.095085922824532\n",
      "MAE:  4.796084014309135\n",
      "R2_score:  0.7342258158639955\n",
      "-----DNN_model-----\n",
      "37062/37062 [==============================] - 16s 422us/step\n",
      "MSE:  102.51207514445832\n",
      "RMSE:  10.124824696974182\n",
      "MAE:  5.669729792974035\n",
      "R2_score:  0.5842379041985766\n"
     ]
    }
   ],
   "source": [
    "x_train, x_test, y_train, y_test = data_split(data02_offline)\n",
    "print('-----RF_model-----')\n",
    "model_evaluate(RF_model(x_train, y_train), x_test, y_test)\n",
    "print('-----XGB_model-----')\n",
    "model_evaluate(XGB_model(x_train, y_train), x_test, y_test)\n",
    "print('-----LGB_model-----')\n",
    "model_evaluate(LGB_model(x_train, y_train), x_test, y_test)\n",
    "print('-----CAT_model-----')\n",
    "model_evaluate(CAT_model(x_train, y_train), x_test, y_test)\n",
    "print('-----DNN_model-----')\n",
    "model_evaluate(DNN_model(x_train, y_train), x_test, y_test)"
   ]
  },
  {
   "cell_type": "markdown",
   "id": "7603bcca",
   "metadata": {},
   "source": [
    "data02_online"
   ]
  },
  {
   "cell_type": "code",
   "execution_count": 4,
   "id": "cf27e234",
   "metadata": {},
   "outputs": [
    {
     "name": "stdout",
     "output_type": "stream",
     "text": [
      "-----RF_model-----\n",
      "MSE:  7.718150226692536\n",
      "RMSE:  2.778155903957252\n",
      "MAE:  1.3683880263965649\n",
      "R2_score:  0.889416124389553\n",
      "-----XGB_model-----\n",
      "MSE:  21.599691805026044\n",
      "RMSE:  4.6475468588305855\n",
      "MAE:  2.817989779436137\n",
      "R2_score:  0.6905245995950806\n",
      "-----LGB_model-----\n",
      "MSE:  26.20689425242496\n",
      "RMSE:  5.119266964363644\n",
      "MAE:  3.1828480956385854\n",
      "R2_score:  0.6245136659657624\n",
      "-----CAT_model-----\n",
      "MSE:  22.15271541851609\n",
      "RMSE:  4.706667124252159\n",
      "MAE:  2.872127324734051\n",
      "R2_score:  0.6826010048621973\n",
      "-----DNN_model-----\n",
      "4018/4018 [==============================] - 2s 400us/step\n",
      "MSE:  39.87115160831099\n",
      "RMSE:  6.314360744233021\n",
      "MAE:  3.7613334698409657\n",
      "R2_score:  0.42873533937571817\n"
     ]
    }
   ],
   "source": [
    "x_train, x_test, y_train, y_test = data_split(data02_online)\n",
    "print('-----RF_model-----')\n",
    "model_evaluate(RF_model(x_train, y_train), x_test, y_test)\n",
    "print('-----XGB_model-----')\n",
    "model_evaluate(XGB_model(x_train, y_train), x_test, y_test)\n",
    "print('-----LGB_model-----')\n",
    "model_evaluate(LGB_model(x_train, y_train), x_test, y_test)\n",
    "print('-----CAT_model-----')\n",
    "model_evaluate(CAT_model(x_train, y_train), x_test, y_test)\n",
    "print('-----DNN_model-----')\n",
    "model_evaluate(DNN_model(x_train, y_train), x_test, y_test)"
   ]
  },
  {
   "cell_type": "markdown",
   "id": "a70a2536",
   "metadata": {},
   "source": [
    "data03_offline"
   ]
  },
  {
   "cell_type": "code",
   "execution_count": 5,
   "id": "a4eb39b3",
   "metadata": {},
   "outputs": [
    {
     "name": "stdout",
     "output_type": "stream",
     "text": [
      "-----RF_model-----\n",
      "MSE:  20.369943549641523\n",
      "RMSE:  4.513307384794605\n",
      "MAE:  2.3467338172449868\n",
      "R2_score:  0.9058455822452045\n",
      "-----XGB_model-----\n",
      "MSE:  51.52549761561063\n",
      "RMSE:  7.178126330429873\n",
      "MAE:  5.0401541945332555\n",
      "R2_score:  0.7618376695202331\n",
      "-----LGB_model-----\n",
      "MSE:  71.31736573470523\n",
      "RMSE:  8.444960967032662\n",
      "MAE:  6.017845106948321\n",
      "R2_score:  0.6703552452075823\n",
      "-----CAT_model-----\n",
      "MSE:  54.52944580634833\n",
      "RMSE:  7.384405582465546\n",
      "MAE:  5.266995898928726\n",
      "R2_score:  0.7479527516668669\n",
      "-----DNN_model-----\n",
      "2002/2002 [==============================] - 1s 389us/step\n",
      "MSE:  110.74395040322132\n",
      "RMSE:  10.523495160982463\n",
      "MAE:  6.868243323111162\n",
      "R2_score:  0.48811678615256904\n"
     ]
    }
   ],
   "source": [
    "x_train, x_test, y_train, y_test = data_split(data03_offline)\n",
    "print('-----RF_model-----')\n",
    "model_evaluate(RF_model(x_train, y_train), x_test, y_test)\n",
    "print('-----XGB_model-----')\n",
    "model_evaluate(XGB_model(x_train, y_train), x_test, y_test)\n",
    "print('-----LGB_model-----')\n",
    "model_evaluate(LGB_model(x_train, y_train), x_test, y_test)\n",
    "print('-----CAT_model-----')\n",
    "model_evaluate(CAT_model(x_train, y_train), x_test, y_test)\n",
    "print('-----DNN_model-----')\n",
    "model_evaluate(DNN_model(x_train, y_train), x_test, y_test)"
   ]
  },
  {
   "cell_type": "markdown",
   "id": "5332586d",
   "metadata": {},
   "source": [
    "data03_online"
   ]
  },
  {
   "cell_type": "code",
   "execution_count": 6,
   "id": "c0932863",
   "metadata": {},
   "outputs": [
    {
     "name": "stdout",
     "output_type": "stream",
     "text": [
      "-----RF_model-----\n",
      "MSE:  12.288876450949953\n",
      "RMSE:  3.505549379334137\n",
      "MAE:  2.0159946109755094\n",
      "R2_score:  0.9119347783904599\n",
      "-----XGB_model-----\n",
      "MSE:  19.96086615467022\n",
      "RMSE:  4.4677585157067545\n",
      "MAE:  3.0495849689300676\n",
      "R2_score:  0.8569553442541515\n",
      "-----LGB_model-----\n",
      "MSE:  26.830723654546265\n",
      "RMSE:  5.1798381880659425\n",
      "MAE:  3.6901901874038554\n",
      "R2_score:  0.8077241939885161\n",
      "-----CAT_model-----\n",
      "MSE:  22.022623433237207\n",
      "RMSE:  4.692826806226415\n",
      "MAE:  3.3278004153012706\n",
      "R2_score:  0.8421802659655218\n",
      "-----DNN_model-----\n",
      "326/326 [==============================] - 0s 408us/step\n",
      "MSE:  77.59755198168739\n",
      "RMSE:  8.808947268640413\n",
      "MAE:  6.110999892519587\n",
      "R2_score:  0.4439161595528246\n"
     ]
    }
   ],
   "source": [
    "x_train, x_test, y_train, y_test = data_split(data03_online)\n",
    "print('-----RF_model-----')\n",
    "model_evaluate(RF_model(x_train, y_train), x_test, y_test)\n",
    "print('-----XGB_model-----')\n",
    "model_evaluate(XGB_model(x_train, y_train), x_test, y_test)\n",
    "print('-----LGB_model-----')\n",
    "model_evaluate(LGB_model(x_train, y_train), x_test, y_test)\n",
    "print('-----CAT_model-----')\n",
    "model_evaluate(CAT_model(x_train, y_train), x_test, y_test)\n",
    "print('-----DNN_model-----')\n",
    "model_evaluate(DNN_model(x_train, y_train), x_test, y_test)"
   ]
  },
  {
   "cell_type": "markdown",
   "id": "1e6dda8f",
   "metadata": {},
   "source": [
    "# 2번 주제: 총 구매금액"
   ]
  },
  {
   "cell_type": "code",
   "execution_count": 7,
   "id": "6fdba01e",
   "metadata": {},
   "outputs": [],
   "source": [
    "data02_offline, data02_online, data03_offline, data03_online = pre_buy_amount_round()"
   ]
  },
  {
   "cell_type": "markdown",
   "id": "2968531c",
   "metadata": {},
   "source": [
    "data02_offline"
   ]
  },
  {
   "cell_type": "code",
   "execution_count": 8,
   "id": "5aa5a98e",
   "metadata": {},
   "outputs": [
    {
     "name": "stdout",
     "output_type": "stream",
     "text": [
      "-----RF_model-----\n",
      "MSE:  0.03417455169779966\n",
      "RMSE:  0.18486360295579998\n",
      "MAE:  0.10342610783022109\n",
      "R2_score:  0.9749723506266403\n",
      "-----XGB_model-----\n",
      "MSE:  0.07666811258547172\n",
      "RMSE:  0.27689007310749103\n",
      "MAE:  0.18482191768882014\n",
      "R2_score:  0.9438522952144537\n",
      "-----LGB_model-----\n",
      "MSE:  0.08585170199434505\n",
      "RMSE:  0.29300461087557145\n",
      "MAE:  0.19854330547529336\n",
      "R2_score:  0.9371267159662852\n",
      "-----CAT_model-----\n",
      "MSE:  0.07192825329195242\n",
      "RMSE:  0.26819443188096287\n",
      "MAE:  0.1777120175543252\n",
      "R2_score:  0.9473235195783097\n",
      "-----DNN_model-----\n",
      "37062/37062 [==============================] - 15s 398us/step\n",
      "MSE:  0.11236926630130228\n",
      "RMSE:  0.3352152536823202\n",
      "MAE:  0.22165985367622887\n",
      "R2_score:  0.9177066425859877\n"
     ]
    }
   ],
   "source": [
    "x_train, x_test, y_train, y_test = data_split(data02_offline)\n",
    "print('-----RF_model-----')\n",
    "model_evaluate(RF_model(x_train, y_train), x_test, y_test)\n",
    "print('-----XGB_model-----')\n",
    "model_evaluate(XGB_model(x_train, y_train), x_test, y_test)\n",
    "print('-----LGB_model-----')\n",
    "model_evaluate(LGB_model(x_train, y_train), x_test, y_test)\n",
    "print('-----CAT_model-----')\n",
    "model_evaluate(CAT_model(x_train, y_train), x_test, y_test)\n",
    "print('-----DNN_model-----')\n",
    "model_evaluate(DNN_model(x_train, y_train), x_test, y_test)"
   ]
  },
  {
   "cell_type": "markdown",
   "id": "713abc17",
   "metadata": {},
   "source": [
    "data02_online"
   ]
  },
  {
   "cell_type": "code",
   "execution_count": 9,
   "id": "d52b2dce",
   "metadata": {},
   "outputs": [
    {
     "name": "stdout",
     "output_type": "stream",
     "text": [
      "-----RF_model-----\n",
      "MSE:  0.029136521432258353\n",
      "RMSE:  0.17069423374050557\n",
      "MAE:  0.09778133112706358\n",
      "R2_score:  0.9772041561847823\n",
      "-----XGB_model-----\n",
      "MSE:  0.06937625044634269\n",
      "RMSE:  0.2633937175529111\n",
      "MAE:  0.18286543434348498\n",
      "R2_score:  0.9457213801813241\n",
      "-----LGB_model-----\n",
      "MSE:  0.09137199953157964\n",
      "RMSE:  0.3022780169505875\n",
      "MAE:  0.2106288301721149\n",
      "R2_score:  0.9285123368193171\n",
      "-----CAT_model-----\n",
      "MSE:  0.07158790518766865\n",
      "RMSE:  0.2675591620327524\n",
      "MAE:  0.1849497134883815\n",
      "R2_score:  0.943991024820487\n",
      "-----DNN_model-----\n",
      "4018/4018 [==============================] - 2s 391us/step\n",
      "MSE:  0.17635764220062639\n",
      "RMSE:  0.41994957102088626\n",
      "MAE:  0.3231935364735282\n",
      "R2_score:  0.8620212341897975\n"
     ]
    }
   ],
   "source": [
    "x_train, x_test, y_train, y_test = data_split(data02_online)\n",
    "print('-----RF_model-----')\n",
    "model_evaluate(RF_model(x_train, y_train), x_test, y_test)\n",
    "print('-----XGB_model-----')\n",
    "model_evaluate(XGB_model(x_train, y_train), x_test, y_test)\n",
    "print('-----LGB_model-----')\n",
    "model_evaluate(LGB_model(x_train, y_train), x_test, y_test)\n",
    "print('-----CAT_model-----')\n",
    "model_evaluate(CAT_model(x_train, y_train), x_test, y_test)\n",
    "print('-----DNN_model-----')\n",
    "model_evaluate(DNN_model(x_train, y_train), x_test, y_test)"
   ]
  },
  {
   "cell_type": "markdown",
   "id": "4d0324a0",
   "metadata": {},
   "source": [
    "data03_offline"
   ]
  },
  {
   "cell_type": "code",
   "execution_count": 10,
   "id": "141e22df",
   "metadata": {},
   "outputs": [
    {
     "name": "stdout",
     "output_type": "stream",
     "text": [
      "-----RF_model-----\n",
      "MSE:  0.04148668014558896\n",
      "RMSE:  0.2036827929541152\n",
      "MAE:  0.1159164525613243\n",
      "R2_score:  0.9704410774822746\n",
      "-----XGB_model-----\n",
      "MSE:  0.07391037057959446\n",
      "RMSE:  0.2718646181090773\n",
      "MAE:  0.1877802721598611\n",
      "R2_score:  0.9473394614957906\n",
      "-----LGB_model-----\n",
      "MSE:  0.0854264254548271\n",
      "RMSE:  0.2922779934494335\n",
      "MAE:  0.2039549452816859\n",
      "R2_score:  0.9391343659670015\n",
      "-----CAT_model-----\n",
      "MSE:  0.07459379843154292\n",
      "RMSE:  0.27311865266133495\n",
      "MAE:  0.18744332589571633\n",
      "R2_score:  0.9468525247042395\n",
      "-----DNN_model-----\n",
      "2002/2002 [==============================] - 1s 383us/step\n",
      "MSE:  0.16311948120762243\n",
      "RMSE:  0.40388052838385563\n",
      "MAE:  0.310407626745243\n",
      "R2_score:  0.8837786950118173\n"
     ]
    }
   ],
   "source": [
    "x_train, x_test, y_train, y_test = data_split(data03_offline)\n",
    "print('-----RF_model-----')\n",
    "model_evaluate(RF_model(x_train, y_train), x_test, y_test)\n",
    "print('-----XGB_model-----')\n",
    "model_evaluate(XGB_model(x_train, y_train), x_test, y_test)\n",
    "print('-----LGB_model-----')\n",
    "model_evaluate(LGB_model(x_train, y_train), x_test, y_test)\n",
    "print('-----CAT_model-----')\n",
    "model_evaluate(CAT_model(x_train, y_train), x_test, y_test)\n",
    "print('-----DNN_model-----')\n",
    "model_evaluate(DNN_model(x_train, y_train), x_test, y_test)"
   ]
  },
  {
   "cell_type": "markdown",
   "id": "dac33ead",
   "metadata": {},
   "source": [
    "data03_online"
   ]
  },
  {
   "cell_type": "code",
   "execution_count": 11,
   "id": "74b1e230",
   "metadata": {},
   "outputs": [
    {
     "name": "stdout",
     "output_type": "stream",
     "text": [
      "-----RF_model-----\n",
      "MSE:  0.043625323171527106\n",
      "RMSE:  0.20886675937431284\n",
      "MAE:  0.12762037531738935\n",
      "R2_score:  0.9496442802339846\n",
      "-----XGB_model-----\n",
      "MSE:  0.050951204548767226\n",
      "RMSE:  0.22572373501421428\n",
      "MAE:  0.16247841421055353\n",
      "R2_score:  0.9411881817376841\n",
      "-----LGB_model-----\n",
      "MSE:  0.061264849520428294\n",
      "RMSE:  0.24751737215886138\n",
      "MAE:  0.18213283305315356\n",
      "R2_score:  0.9292833755791798\n",
      "-----CAT_model-----\n",
      "MSE:  0.054699727887532724\n",
      "RMSE:  0.2338797295353591\n",
      "MAE:  0.17043000180565634\n",
      "R2_score:  0.9368613463801311\n",
      "-----DNN_model-----\n",
      "326/326 [==============================] - 0s 389us/step\n",
      "MSE:  0.12040291365607986\n",
      "RMSE:  0.34699122994116127\n",
      "MAE:  0.26486079226854214\n",
      "R2_score:  0.8610216512267715\n"
     ]
    }
   ],
   "source": [
    "x_train, x_test, y_train, y_test = data_split(data03_online)\n",
    "print('-----RF_model-----')\n",
    "model_evaluate(RF_model(x_train, y_train), x_test, y_test)\n",
    "print('-----XGB_model-----')\n",
    "model_evaluate(XGB_model(x_train, y_train), x_test, y_test)\n",
    "print('-----LGB_model-----')\n",
    "model_evaluate(LGB_model(x_train, y_train), x_test, y_test)\n",
    "print('-----CAT_model-----')\n",
    "model_evaluate(CAT_model(x_train, y_train), x_test, y_test)\n",
    "print('-----DNN_model-----')\n",
    "model_evaluate(DNN_model(x_train, y_train), x_test, y_test)"
   ]
  }
 ],
 "metadata": {
  "kernelspec": {
   "display_name": "Python 3 (ipykernel)",
   "language": "python",
   "name": "python3"
  },
  "language_info": {
   "codemirror_mode": {
    "name": "ipython",
    "version": 3
   },
   "file_extension": ".py",
   "mimetype": "text/x-python",
   "name": "python",
   "nbconvert_exporter": "python",
   "pygments_lexer": "ipython3",
   "version": "3.10.4"
  }
 },
 "nbformat": 4,
 "nbformat_minor": 5
}
